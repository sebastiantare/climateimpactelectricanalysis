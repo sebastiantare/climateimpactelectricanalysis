{
 "cells": [
  {
   "cell_type": "code",
<<<<<<< HEAD
   "execution_count": 3,
=======
   "execution_count": 1,
>>>>>>> 5af1825474e5e175d23959053c2cb8d8441d10fc
   "metadata": {},
   "outputs": [],
   "source": [
    "### General ###\n",
    "\n",
    "import numpy as np\n",
    "import pandas as pd\n",
    "import calendar\n",
    "\n",
    "#### Visualization Tools ###\n",
    "\n",
    "# Base of sns\n",
    "import matplotlib.pyplot as plt\n",
    "\n",
    "# Born on top of matplotlib, but more attractive\n",
    "import seaborn as sns\n",
    "\n",
    "# For interactive visualization, not good for too many datapoints\n",
    "import plotly.express as px\n",
    "from plotly.subplots import make_subplots\n",
    "import plotly.graph_objs as go"
   ]
  },
  {
   "cell_type": "code",
<<<<<<< HEAD
   "execution_count": 4,
=======
   "execution_count": 3,
>>>>>>> 5af1825474e5e175d23959053c2cb8d8441d10fc
   "metadata": {},
   "outputs": [
    {
     "data": {
      "text/html": [
       "<div>\n",
       "<style scoped>\n",
       "    .dataframe tbody tr th:only-of-type {\n",
       "        vertical-align: middle;\n",
       "    }\n",
       "\n",
       "    .dataframe tbody tr th {\n",
       "        vertical-align: top;\n",
       "    }\n",
       "\n",
       "    .dataframe thead th {\n",
       "        text-align: right;\n",
       "    }\n",
       "</style>\n",
       "<table border=\"1\" class=\"dataframe\">\n",
       "  <thead>\n",
       "    <tr style=\"text-align: right;\">\n",
       "      <th></th>\n",
       "      <th>Tipo Requerimiento</th>\n",
       "      <th>Eficiencia servicio  Comercial (Eficiencia)</th>\n",
       "      <th>Eficacia servicio  Comercial (Eficiencia)</th>\n",
       "      <th>Oportunidad del servicio Comercial (OP)</th>\n",
       "      <th>Tiempo medio de resolucion de reclamos, consultas y solicitudes (TRR)</th>\n",
       "      <th>Indicador de nivel de reclamo, consulta y solicitud (INR)</th>\n",
       "      <th>Indicador de facturacion emitida (IFE)</th>\n",
       "      <th>Indicador de facturacion emitida con consumo estimado (IFEEs)</th>\n",
       "      <th>Errores en emision de facturas por errores de lectura (EFErt)</th>\n",
       "      <th>Errores en emision de facturas por errores distintos al de lectura (EF)</th>\n",
       "      <th>Pagos mal imputados (PMI)</th>\n",
       "      <th>Fecha</th>\n",
       "    </tr>\n",
       "  </thead>\n",
       "  <tbody>\n",
       "    <tr>\n",
       "      <th>0</th>\n",
       "      <td>Reclamo</td>\n",
       "      <td>95.99</td>\n",
       "      <td>96.15</td>\n",
       "      <td>93.68</td>\n",
       "      <td>24.0</td>\n",
       "      <td>0.075</td>\n",
       "      <td>100</td>\n",
       "      <td>77.97</td>\n",
       "      <td>0.986</td>\n",
       "      <td>1.0</td>\n",
       "      <td>0.994</td>\n",
       "      <td>2021-02-01</td>\n",
       "    </tr>\n",
       "    <tr>\n",
       "      <th>1</th>\n",
       "      <td>Consulta</td>\n",
       "      <td>97.43</td>\n",
       "      <td>100.00</td>\n",
       "      <td>100.00</td>\n",
       "      <td>1.0</td>\n",
       "      <td>0.117</td>\n",
       "      <td>100</td>\n",
       "      <td>77.97</td>\n",
       "      <td>0.986</td>\n",
       "      <td>1.0</td>\n",
       "      <td>0.994</td>\n",
       "      <td>2021-02-01</td>\n",
       "    </tr>\n",
       "    <tr>\n",
       "      <th>2</th>\n",
       "      <td>Solicitud</td>\n",
       "      <td>97.06</td>\n",
       "      <td>99.87</td>\n",
       "      <td>95.05</td>\n",
       "      <td>24.0</td>\n",
       "      <td>0.177</td>\n",
       "      <td>100</td>\n",
       "      <td>77.97</td>\n",
       "      <td>0.986</td>\n",
       "      <td>1.0</td>\n",
       "      <td>0.994</td>\n",
       "      <td>2021-02-01</td>\n",
       "    </tr>\n",
       "    <tr>\n",
       "      <th>3</th>\n",
       "      <td>Reclamo</td>\n",
       "      <td>96.37</td>\n",
       "      <td>96.38</td>\n",
       "      <td>92.90</td>\n",
       "      <td>23.0</td>\n",
       "      <td>0.083</td>\n",
       "      <td>100</td>\n",
       "      <td>75.05</td>\n",
       "      <td>0.988</td>\n",
       "      <td>1.0</td>\n",
       "      <td>0.994</td>\n",
       "      <td>2021-03-01</td>\n",
       "    </tr>\n",
       "    <tr>\n",
       "      <th>4</th>\n",
       "      <td>Consulta</td>\n",
       "      <td>98.11</td>\n",
       "      <td>100.00</td>\n",
       "      <td>100.00</td>\n",
       "      <td>1.0</td>\n",
       "      <td>0.149</td>\n",
       "      <td>100</td>\n",
       "      <td>75.05</td>\n",
       "      <td>0.988</td>\n",
       "      <td>1.0</td>\n",
       "      <td>0.994</td>\n",
       "      <td>2021-03-01</td>\n",
       "    </tr>\n",
       "  </tbody>\n",
       "</table>\n",
       "</div>"
      ],
      "text/plain": [
       "  Tipo Requerimiento  Eficiencia servicio  Comercial (Eficiencia)  \\\n",
       "0            Reclamo                                        95.99   \n",
       "1           Consulta                                        97.43   \n",
       "2          Solicitud                                        97.06   \n",
       "3            Reclamo                                        96.37   \n",
       "4           Consulta                                        98.11   \n",
       "\n",
       "   Eficacia servicio  Comercial (Eficiencia)  \\\n",
       "0                                      96.15   \n",
       "1                                     100.00   \n",
       "2                                      99.87   \n",
       "3                                      96.38   \n",
       "4                                     100.00   \n",
       "\n",
       "   Oportunidad del servicio Comercial (OP)  \\\n",
       "0                                    93.68   \n",
       "1                                   100.00   \n",
       "2                                    95.05   \n",
       "3                                    92.90   \n",
       "4                                   100.00   \n",
       "\n",
       "   Tiempo medio de resolucion de reclamos, consultas y solicitudes (TRR)  \\\n",
       "0                                               24.0                       \n",
       "1                                                1.0                       \n",
       "2                                               24.0                       \n",
       "3                                               23.0                       \n",
       "4                                                1.0                       \n",
       "\n",
       "   Indicador de nivel de reclamo, consulta y solicitud (INR)  \\\n",
       "0                                              0.075           \n",
       "1                                              0.117           \n",
       "2                                              0.177           \n",
       "3                                              0.083           \n",
       "4                                              0.149           \n",
       "\n",
       "   Indicador de facturacion emitida (IFE)  \\\n",
       "0                                     100   \n",
       "1                                     100   \n",
       "2                                     100   \n",
       "3                                     100   \n",
       "4                                     100   \n",
       "\n",
       "   Indicador de facturacion emitida con consumo estimado (IFEEs)  \\\n",
       "0                                              77.97               \n",
       "1                                              77.97               \n",
       "2                                              77.97               \n",
       "3                                              75.05               \n",
       "4                                              75.05               \n",
       "\n",
       "   Errores en emision de facturas por errores de lectura (EFErt)  \\\n",
       "0                                              0.986               \n",
       "1                                              0.986               \n",
       "2                                              0.986               \n",
       "3                                              0.988               \n",
       "4                                              0.988               \n",
       "\n",
       "   Errores en emision de facturas por errores distintos al de lectura (EF)  \\\n",
       "0                                                1.0                         \n",
       "1                                                1.0                         \n",
       "2                                                1.0                         \n",
       "3                                                1.0                         \n",
       "4                                                1.0                         \n",
       "\n",
       "   Pagos mal imputados (PMI)       Fecha  \n",
       "0                      0.994  2021-02-01  \n",
       "1                      0.994  2021-02-01  \n",
       "2                      0.994  2021-02-01  \n",
       "3                      0.994  2021-03-01  \n",
       "4                      0.994  2021-03-01  "
      ]
     },
<<<<<<< HEAD
     "execution_count": 4,
=======
     "execution_count": 3,
>>>>>>> 5af1825474e5e175d23959053c2cb8d8441d10fc
     "metadata": {},
     "output_type": "execute_result"
    }
   ],
   "source": [
<<<<<<< HEAD
    "df_reclamos = pd.read_csv('./reclamos_clean.csv')\n",
    "df_reclamos.head()"
=======
    "df = pd.read_csv('./reclamos_clean.csv')\n",
    "df.head()"
>>>>>>> 5af1825474e5e175d23959053c2cb8d8441d10fc
   ]
  },
  {
   "cell_type": "code",
   "execution_count": 5,
   "metadata": {},
<<<<<<< HEAD
   "outputs": [
    {
     "data": {
      "text/html": [
       "<div>\n",
       "<style scoped>\n",
       "    .dataframe tbody tr th:only-of-type {\n",
       "        vertical-align: middle;\n",
       "    }\n",
       "\n",
       "    .dataframe tbody tr th {\n",
       "        vertical-align: top;\n",
       "    }\n",
       "\n",
       "    .dataframe thead th {\n",
       "        text-align: right;\n",
       "    }\n",
       "</style>\n",
       "<table border=\"1\" class=\"dataframe\">\n",
       "  <thead>\n",
       "    <tr style=\"text-align: right;\">\n",
       "      <th></th>\n",
       "      <th>Periodo</th>\n",
       "      <th>Número total de llamadas recibidas por mes (NLLR)</th>\n",
       "      <th>Número total de llamadas atendidas en IVR por mes (NRIVR)</th>\n",
       "      <th>Número total de llamadas desistidas en IVR por mes (NDIVR)</th>\n",
       "      <th>Número total de llamadas atendidas por ejecutivo por mes (NREJC)</th>\n",
       "      <th>Número total de llamadas cursadas por gestión de abandono por mes (NGA)</th>\n",
       "      <th>Porcentaje de llamadas perdidas (LLP%)</th>\n",
       "      <th>Tasa de ocupación de las líneas, registradas con una frecuencia de una hora (OC)</th>\n",
       "      <th>Tiempo promedio de espera, considerando las llamadas atendidas por un ejecutivo (TPE)</th>\n",
       "      <th>Tiempo de conversación promedio, considerando las llamadas atendidas por un ejecutivo (TPC)</th>\n",
       "    </tr>\n",
       "  </thead>\n",
       "  <tbody>\n",
       "    <tr>\n",
       "      <th>0</th>\n",
       "      <td>2023-07-01</td>\n",
       "      <td>2907</td>\n",
       "      <td>700</td>\n",
       "      <td>0</td>\n",
       "      <td>2207</td>\n",
       "      <td>478</td>\n",
       "      <td>16.44</td>\n",
       "      <td>0</td>\n",
       "      <td>00:05:09</td>\n",
       "      <td>00:07:24</td>\n",
       "    </tr>\n",
       "    <tr>\n",
       "      <th>1</th>\n",
       "      <td>2023-06-01</td>\n",
       "      <td>3785</td>\n",
       "      <td>925</td>\n",
       "      <td>0</td>\n",
       "      <td>1972</td>\n",
       "      <td>554</td>\n",
       "      <td>14.63</td>\n",
       "      <td>0</td>\n",
       "      <td>00:04:51</td>\n",
       "      <td>00:07:09</td>\n",
       "    </tr>\n",
       "    <tr>\n",
       "      <th>2</th>\n",
       "      <td>2023-05-01</td>\n",
       "      <td>3342</td>\n",
       "      <td>816</td>\n",
       "      <td>0</td>\n",
       "      <td>1958</td>\n",
       "      <td>902</td>\n",
       "      <td>26.98</td>\n",
       "      <td>0</td>\n",
       "      <td>00:04:28</td>\n",
       "      <td>00:06:58</td>\n",
       "    </tr>\n",
       "    <tr>\n",
       "      <th>3</th>\n",
       "      <td>2023-04-01</td>\n",
       "      <td>4280</td>\n",
       "      <td>938</td>\n",
       "      <td>0</td>\n",
       "      <td>2285</td>\n",
       "      <td>1057</td>\n",
       "      <td>24.69</td>\n",
       "      <td>0</td>\n",
       "      <td>00:04:56</td>\n",
       "      <td>00:06:48</td>\n",
       "    </tr>\n",
       "    <tr>\n",
       "      <th>4</th>\n",
       "      <td>2023-03-01</td>\n",
       "      <td>3556</td>\n",
       "      <td>806</td>\n",
       "      <td>0</td>\n",
       "      <td>2163</td>\n",
       "      <td>587</td>\n",
       "      <td>16.50</td>\n",
       "      <td>0</td>\n",
       "      <td>00:04:33</td>\n",
       "      <td>00:06:14</td>\n",
       "    </tr>\n",
       "  </tbody>\n",
       "</table>\n",
       "</div>"
      ],
      "text/plain": [
       "      Periodo  Número total de llamadas recibidas por mes (NLLR)  \\\n",
       "0  2023-07-01                                               2907   \n",
       "1  2023-06-01                                               3785   \n",
       "2  2023-05-01                                               3342   \n",
       "3  2023-04-01                                               4280   \n",
       "4  2023-03-01                                               3556   \n",
       "\n",
       "   Número total de llamadas atendidas en IVR por mes (NRIVR)  \\\n",
       "0                                                700           \n",
       "1                                                925           \n",
       "2                                                816           \n",
       "3                                                938           \n",
       "4                                                806           \n",
       "\n",
       "   Número total de llamadas desistidas en IVR por mes (NDIVR)  \\\n",
       "0                                                  0            \n",
       "1                                                  0            \n",
       "2                                                  0            \n",
       "3                                                  0            \n",
       "4                                                  0            \n",
       "\n",
       "   Número total de llamadas atendidas por ejecutivo por mes (NREJC)  \\\n",
       "0                                               2207                  \n",
       "1                                               1972                  \n",
       "2                                               1958                  \n",
       "3                                               2285                  \n",
       "4                                               2163                  \n",
       "\n",
       "   Número total de llamadas cursadas por gestión de abandono por mes (NGA)  \\\n",
       "0                                                478                         \n",
       "1                                                554                         \n",
       "2                                                902                         \n",
       "3                                               1057                         \n",
       "4                                                587                         \n",
       "\n",
       "   Porcentaje de llamadas perdidas (LLP%)  \\\n",
       "0                                   16.44   \n",
       "1                                   14.63   \n",
       "2                                   26.98   \n",
       "3                                   24.69   \n",
       "4                                   16.50   \n",
       "\n",
       "   Tasa de ocupación de las líneas, registradas con una frecuencia de una hora (OC)  \\\n",
       "0                                                  0                                  \n",
       "1                                                  0                                  \n",
       "2                                                  0                                  \n",
       "3                                                  0                                  \n",
       "4                                                  0                                  \n",
       "\n",
       "  Tiempo promedio de espera, considerando las llamadas atendidas por un ejecutivo (TPE)  \\\n",
       "0                                           00:05:09                                      \n",
       "1                                           00:04:51                                      \n",
       "2                                           00:04:28                                      \n",
       "3                                           00:04:56                                      \n",
       "4                                           00:04:33                                      \n",
       "\n",
       "  Tiempo de conversación promedio, considerando las llamadas atendidas por un ejecutivo (TPC)  \n",
       "0                                           00:07:24                                           \n",
       "1                                           00:07:09                                           \n",
       "2                                           00:06:58                                           \n",
       "3                                           00:06:48                                           \n",
       "4                                           00:06:14                                           "
      ]
     },
     "execution_count": 5,
     "metadata": {},
     "output_type": "execute_result"
    }
   ],
   "source": [
    "df_llamados = pd.read_csv('./llamados_clean.csv')\n",
    "df_llamados.head()"
   ]
  },
  {
   "cell_type": "code",
   "execution_count": 6,
   "metadata": {},
   "outputs": [
    {
     "data": {
      "text/html": [
       "<div>\n",
       "<style scoped>\n",
       "    .dataframe tbody tr th:only-of-type {\n",
       "        vertical-align: middle;\n",
       "    }\n",
       "\n",
       "    .dataframe tbody tr th {\n",
       "        vertical-align: top;\n",
       "    }\n",
       "\n",
       "    .dataframe thead th {\n",
       "        text-align: right;\n",
       "    }\n",
       "</style>\n",
       "<table border=\"1\" class=\"dataframe\">\n",
       "  <thead>\n",
       "    <tr style=\"text-align: right;\">\n",
       "      <th></th>\n",
       "      <th>Periodo</th>\n",
       "      <th>Cantidad Eventos</th>\n",
       "      <th>Número avisos de clientes por eventos (total)</th>\n",
       "      <th>Tiempo promedio concurrencia ante eventos</th>\n",
       "      <th>Hora de Concurrencia Menor a 4 [Hr]</th>\n",
       "      <th>Hora de Concurrencia Mayor a 4 [Hr]</th>\n",
       "      <th>Porcentaje concurrencia menor a 4 [Hr]</th>\n",
       "      <th>Porcentaje concurrencia mayor a 4 [Hr]</th>\n",
       "      <th>Cantidad Eventos Operación Remota</th>\n",
       "      <th>Cantidad Eventos Operación Manual</th>\n",
       "      <th>Porcentaje falsas alarmas</th>\n",
       "    </tr>\n",
       "  </thead>\n",
       "  <tbody>\n",
       "    <tr>\n",
       "      <th>0</th>\n",
       "      <td>2023-07-01</td>\n",
       "      <td>43</td>\n",
       "      <td>261</td>\n",
       "      <td>00:51:00</td>\n",
       "      <td>43</td>\n",
       "      <td>0</td>\n",
       "      <td>100.0</td>\n",
       "      <td>0.0</td>\n",
       "      <td>0</td>\n",
       "      <td>43</td>\n",
       "      <td>0.0</td>\n",
       "    </tr>\n",
       "    <tr>\n",
       "      <th>1</th>\n",
       "      <td>2023-06-01</td>\n",
       "      <td>61</td>\n",
       "      <td>362</td>\n",
       "      <td>01:31:00</td>\n",
       "      <td>55</td>\n",
       "      <td>6</td>\n",
       "      <td>90.2</td>\n",
       "      <td>9.8</td>\n",
       "      <td>0</td>\n",
       "      <td>61</td>\n",
       "      <td>0.0</td>\n",
       "    </tr>\n",
       "    <tr>\n",
       "      <th>2</th>\n",
       "      <td>2023-05-01</td>\n",
       "      <td>66</td>\n",
       "      <td>338</td>\n",
       "      <td>00:51:00</td>\n",
       "      <td>65</td>\n",
       "      <td>1</td>\n",
       "      <td>98.5</td>\n",
       "      <td>1.5</td>\n",
       "      <td>0</td>\n",
       "      <td>66</td>\n",
       "      <td>0.0</td>\n",
       "    </tr>\n",
       "    <tr>\n",
       "      <th>3</th>\n",
       "      <td>2023-04-01</td>\n",
       "      <td>63</td>\n",
       "      <td>493</td>\n",
       "      <td>03:13:00</td>\n",
       "      <td>53</td>\n",
       "      <td>10</td>\n",
       "      <td>84.1</td>\n",
       "      <td>15.9</td>\n",
       "      <td>0</td>\n",
       "      <td>63</td>\n",
       "      <td>0.0</td>\n",
       "    </tr>\n",
       "    <tr>\n",
       "      <th>4</th>\n",
       "      <td>2023-03-01</td>\n",
       "      <td>44</td>\n",
       "      <td>251</td>\n",
       "      <td>01:18:00</td>\n",
       "      <td>40</td>\n",
       "      <td>4</td>\n",
       "      <td>91.0</td>\n",
       "      <td>9.0</td>\n",
       "      <td>0</td>\n",
       "      <td>44</td>\n",
       "      <td>0.0</td>\n",
       "    </tr>\n",
       "  </tbody>\n",
       "</table>\n",
       "</div>"
      ],
      "text/plain": [
       "      Periodo  Cantidad Eventos  \\\n",
       "0  2023-07-01                43   \n",
       "1  2023-06-01                61   \n",
       "2  2023-05-01                66   \n",
       "3  2023-04-01                63   \n",
       "4  2023-03-01                44   \n",
       "\n",
       "   Número avisos de clientes por eventos (total)  \\\n",
       "0                                            261   \n",
       "1                                            362   \n",
       "2                                            338   \n",
       "3                                            493   \n",
       "4                                            251   \n",
       "\n",
       "  Tiempo promedio concurrencia ante eventos  \\\n",
       "0                                  00:51:00   \n",
       "1                                  01:31:00   \n",
       "2                                  00:51:00   \n",
       "3                                  03:13:00   \n",
       "4                                  01:18:00   \n",
       "\n",
       "   Hora de Concurrencia Menor a 4 [Hr]  Hora de Concurrencia Mayor a 4 [Hr]  \\\n",
       "0                                   43                                    0   \n",
       "1                                   55                                    6   \n",
       "2                                   65                                    1   \n",
       "3                                   53                                   10   \n",
       "4                                   40                                    4   \n",
       "\n",
       "   Porcentaje concurrencia menor a 4 [Hr]  \\\n",
       "0                                   100.0   \n",
       "1                                    90.2   \n",
       "2                                    98.5   \n",
       "3                                    84.1   \n",
       "4                                    91.0   \n",
       "\n",
       "   Porcentaje concurrencia mayor a 4 [Hr]  Cantidad Eventos Operación Remota  \\\n",
       "0                                     0.0                                  0   \n",
       "1                                     9.8                                  0   \n",
       "2                                     1.5                                  0   \n",
       "3                                    15.9                                  0   \n",
       "4                                     9.0                                  0   \n",
       "\n",
       "   Cantidad Eventos Operación Manual  Porcentaje falsas alarmas  \n",
       "0                                 43                        0.0  \n",
       "1                                 61                        0.0  \n",
       "2                                 66                        0.0  \n",
       "3                                 63                        0.0  \n",
       "4                                 44                        0.0  "
      ]
     },
     "execution_count": 6,
     "metadata": {},
     "output_type": "execute_result"
    }
   ],
   "source": [
    "df_fallas = pd.read_csv('./fallas_clean.csv')\n",
    "df_fallas.head()"
   ]
  },
  {
   "cell_type": "code",
   "execution_count": 15,
   "metadata": {},
   "outputs": [
    {
     "data": {
      "text/html": [
       "<div>\n",
       "<style scoped>\n",
       "    .dataframe tbody tr th:only-of-type {\n",
       "        vertical-align: middle;\n",
       "    }\n",
       "\n",
       "    .dataframe tbody tr th {\n",
       "        vertical-align: top;\n",
       "    }\n",
       "\n",
       "    .dataframe thead th {\n",
       "        text-align: right;\n",
       "    }\n",
       "</style>\n",
       "<table border=\"1\" class=\"dataframe\">\n",
       "  <thead>\n",
       "    <tr style=\"text-align: right;\">\n",
       "      <th></th>\n",
       "      <th>Unnamed: 0</th>\n",
       "      <th>codigoNacional</th>\n",
       "      <th>idEquipo</th>\n",
       "      <th>momento</th>\n",
       "      <th>ddInst</th>\n",
       "      <th>ffInst</th>\n",
       "      <th>dd02Minutos</th>\n",
       "      <th>ff02Minutos</th>\n",
       "      <th>dd10Minutos</th>\n",
       "      <th>ff10Minutos</th>\n",
       "    </tr>\n",
       "  </thead>\n",
       "  <tbody>\n",
       "    <tr>\n",
       "      <th>0</th>\n",
       "      <td>0</td>\n",
       "      <td>360011</td>\n",
       "      <td>0</td>\n",
       "      <td>2019-02-05 18:27:00</td>\n",
       "      <td>218.0</td>\n",
       "      <td>9.7</td>\n",
       "      <td>218.0</td>\n",
       "      <td>4.2</td>\n",
       "      <td>212.0</td>\n",
       "      <td>7.8</td>\n",
       "    </tr>\n",
       "    <tr>\n",
       "      <th>1</th>\n",
       "      <td>1</td>\n",
       "      <td>360011</td>\n",
       "      <td>0</td>\n",
       "      <td>2019-02-05 18:28:00</td>\n",
       "      <td>208.0</td>\n",
       "      <td>8.0</td>\n",
       "      <td>212.0</td>\n",
       "      <td>4.5</td>\n",
       "      <td>213.0</td>\n",
       "      <td>7.7</td>\n",
       "    </tr>\n",
       "    <tr>\n",
       "      <th>2</th>\n",
       "      <td>2</td>\n",
       "      <td>360011</td>\n",
       "      <td>0</td>\n",
       "      <td>2019-02-05 18:29:00</td>\n",
       "      <td>230.0</td>\n",
       "      <td>6.2</td>\n",
       "      <td>204.0</td>\n",
       "      <td>3.8</td>\n",
       "      <td>214.0</td>\n",
       "      <td>7.2</td>\n",
       "    </tr>\n",
       "    <tr>\n",
       "      <th>3</th>\n",
       "      <td>3</td>\n",
       "      <td>360011</td>\n",
       "      <td>0</td>\n",
       "      <td>2019-02-05 18:30:00</td>\n",
       "      <td>213.0</td>\n",
       "      <td>6.8</td>\n",
       "      <td>218.0</td>\n",
       "      <td>3.2</td>\n",
       "      <td>219.0</td>\n",
       "      <td>7.2</td>\n",
       "    </tr>\n",
       "    <tr>\n",
       "      <th>4</th>\n",
       "      <td>4</td>\n",
       "      <td>360011</td>\n",
       "      <td>0</td>\n",
       "      <td>2019-02-05 18:31:00</td>\n",
       "      <td>232.0</td>\n",
       "      <td>9.3</td>\n",
       "      <td>223.0</td>\n",
       "      <td>4.0</td>\n",
       "      <td>221.0</td>\n",
       "      <td>7.5</td>\n",
       "    </tr>\n",
       "    <tr>\n",
       "      <th>...</th>\n",
       "      <td>...</td>\n",
       "      <td>...</td>\n",
       "      <td>...</td>\n",
       "      <td>...</td>\n",
       "      <td>...</td>\n",
       "      <td>...</td>\n",
       "      <td>...</td>\n",
       "      <td>...</td>\n",
       "      <td>...</td>\n",
       "      <td>...</td>\n",
       "    </tr>\n",
       "    <tr>\n",
       "      <th>2150608</th>\n",
       "      <td>2150608</td>\n",
       "      <td>360011</td>\n",
       "      <td>0</td>\n",
       "      <td>2023-07-31 23:56:00</td>\n",
       "      <td>28.0</td>\n",
       "      <td>4.7</td>\n",
       "      <td>34.0</td>\n",
       "      <td>2.3</td>\n",
       "      <td>44.0</td>\n",
       "      <td>3.2</td>\n",
       "    </tr>\n",
       "    <tr>\n",
       "      <th>2150609</th>\n",
       "      <td>2150609</td>\n",
       "      <td>360011</td>\n",
       "      <td>0</td>\n",
       "      <td>2023-07-31 23:57:00</td>\n",
       "      <td>28.0</td>\n",
       "      <td>4.9</td>\n",
       "      <td>28.0</td>\n",
       "      <td>2.5</td>\n",
       "      <td>41.0</td>\n",
       "      <td>3.4</td>\n",
       "    </tr>\n",
       "    <tr>\n",
       "      <th>2150610</th>\n",
       "      <td>2150610</td>\n",
       "      <td>360011</td>\n",
       "      <td>0</td>\n",
       "      <td>2023-07-31 23:58:00</td>\n",
       "      <td>34.0</td>\n",
       "      <td>5.2</td>\n",
       "      <td>28.0</td>\n",
       "      <td>2.5</td>\n",
       "      <td>39.0</td>\n",
       "      <td>3.6</td>\n",
       "    </tr>\n",
       "    <tr>\n",
       "      <th>2150611</th>\n",
       "      <td>2150611</td>\n",
       "      <td>360011</td>\n",
       "      <td>0</td>\n",
       "      <td>2023-07-31 23:59:00</td>\n",
       "      <td>32.0</td>\n",
       "      <td>5.4</td>\n",
       "      <td>30.0</td>\n",
       "      <td>2.6</td>\n",
       "      <td>37.0</td>\n",
       "      <td>3.8</td>\n",
       "    </tr>\n",
       "    <tr>\n",
       "      <th>2150612</th>\n",
       "      <td>2150612</td>\n",
       "      <td>360011</td>\n",
       "      <td>0</td>\n",
       "      <td>2023-08-01 00:00:00</td>\n",
       "      <td>38.0</td>\n",
       "      <td>5.2</td>\n",
       "      <td>31.0</td>\n",
       "      <td>2.7</td>\n",
       "      <td>35.0</td>\n",
       "      <td>4.0</td>\n",
       "    </tr>\n",
       "  </tbody>\n",
       "</table>\n",
       "<p>2150613 rows × 10 columns</p>\n",
       "</div>"
      ],
      "text/plain": [
       "         Unnamed: 0  codigoNacional  idEquipo              momento  ddInst  \\\n",
       "0                 0          360011         0  2019-02-05 18:27:00   218.0   \n",
       "1                 1          360011         0  2019-02-05 18:28:00   208.0   \n",
       "2                 2          360011         0  2019-02-05 18:29:00   230.0   \n",
       "3                 3          360011         0  2019-02-05 18:30:00   213.0   \n",
       "4                 4          360011         0  2019-02-05 18:31:00   232.0   \n",
       "...             ...             ...       ...                  ...     ...   \n",
       "2150608     2150608          360011         0  2023-07-31 23:56:00    28.0   \n",
       "2150609     2150609          360011         0  2023-07-31 23:57:00    28.0   \n",
       "2150610     2150610          360011         0  2023-07-31 23:58:00    34.0   \n",
       "2150611     2150611          360011         0  2023-07-31 23:59:00    32.0   \n",
       "2150612     2150612          360011         0  2023-08-01 00:00:00    38.0   \n",
       "\n",
       "         ffInst  dd02Minutos  ff02Minutos  dd10Minutos  ff10Minutos  \n",
       "0           9.7        218.0          4.2        212.0          7.8  \n",
       "1           8.0        212.0          4.5        213.0          7.7  \n",
       "2           6.2        204.0          3.8        214.0          7.2  \n",
       "3           6.8        218.0          3.2        219.0          7.2  \n",
       "4           9.3        223.0          4.0        221.0          7.5  \n",
       "...         ...          ...          ...          ...          ...  \n",
       "2150608     4.7         34.0          2.3         44.0          3.2  \n",
       "2150609     4.9         28.0          2.5         41.0          3.4  \n",
       "2150610     5.2         28.0          2.5         39.0          3.6  \n",
       "2150611     5.4         30.0          2.6         37.0          3.8  \n",
       "2150612     5.2         31.0          2.7         35.0          4.0  \n",
       "\n",
       "[2150613 rows x 10 columns]"
      ]
     },
     "execution_count": 15,
     "metadata": {},
     "output_type": "execute_result"
    }
   ],
   "source": [
    "df_viento = pd.read_csv('../meteochile/dataset/viento_dataset.csv', delimiter=';')\n",
    "df_viento"
   ]
  },
  {
   "cell_type": "code",
   "execution_count": 8,
   "metadata": {},
   "outputs": [],
   "source": [
    "df_reclamos['Fecha'] = pd.to_datetime(df_reclamos['Fecha'])\n",
    "df_llamados['Periodo'] = pd.to_datetime(df_llamados['Periodo'])\n",
    "df_fallas['Periodo'] = pd.to_datetime(df_fallas['Periodo'])"
   ]
  },
  {
   "cell_type": "markdown",
   "metadata": {},
   "source": [
    "# Reclamos"
=======
   "outputs": [],
   "source": [
    "df['Fecha'] = pd.to_datetime(df['Fecha'])"
>>>>>>> 5af1825474e5e175d23959053c2cb8d8441d10fc
   ]
  },
  {
   "cell_type": "code",
<<<<<<< HEAD
   "execution_count": 9,
=======
   "execution_count": 25,
>>>>>>> 5af1825474e5e175d23959053c2cb8d8441d10fc
   "metadata": {},
   "outputs": [
    {
     "data": {
      "text/plain": [
       "['Tipo Requerimiento',\n",
       " 'Eficiencia servicio  Comercial (Eficiencia)',\n",
       " 'Eficacia servicio  Comercial (Eficiencia)',\n",
       " 'Oportunidad del servicio Comercial (OP)',\n",
       " 'Tiempo medio de resolucion de reclamos, consultas y solicitudes (TRR)',\n",
       " 'Indicador de nivel de reclamo, consulta y solicitud (INR)',\n",
       " 'Indicador de facturacion emitida (IFE)',\n",
       " 'Indicador de facturacion emitida con consumo estimado (IFEEs)',\n",
       " 'Errores en emision de facturas por errores de lectura (EFErt)',\n",
       " 'Errores en emision de facturas por errores distintos al de lectura (EF)',\n",
       " 'Pagos mal imputados (PMI)',\n",
       " 'Fecha']"
      ]
     },
<<<<<<< HEAD
     "execution_count": 9,
=======
     "execution_count": 25,
>>>>>>> 5af1825474e5e175d23959053c2cb8d8441d10fc
     "metadata": {},
     "output_type": "execute_result"
    }
   ],
   "source": [
<<<<<<< HEAD
    "df_reclamos.columns.to_list()"
=======
    "df.columns.to_list()"
>>>>>>> 5af1825474e5e175d23959053c2cb8d8441d10fc
   ]
  },
  {
   "cell_type": "code",
<<<<<<< HEAD
   "execution_count": 10,
=======
   "execution_count": 31,
>>>>>>> 5af1825474e5e175d23959053c2cb8d8441d10fc
   "metadata": {},
   "outputs": [
    {
     "data": {
      "application/vnd.plotly.v1+json": {
       "config": {
        "plotlyServerURL": "https://plot.ly"
       },
       "data": [
        {
         "alignmentgroup": "True",
<<<<<<< HEAD
         "hovertemplate": "Fecha=%{x}<br>Eficiencia servicio  Comercial (Eficiencia)=%{y}<extra></extra>",
         "legendgroup": "",
         "marker": {
          "color": "#636efa",
=======
         "hovertemplate": "Fecha=%{x}<br>Eficiencia servicio  Comercial (Eficiencia)=%{y}<br>year=%{marker.color}<extra></extra>",
         "legendgroup": "",
         "marker": {
          "color": [
           2021,
           2021,
           2021,
           2021,
           2021,
           2021,
           2021,
           2021,
           2021,
           2021,
           2021,
           2021,
           2021,
           2021,
           2021,
           2021,
           2021,
           2021,
           2021,
           2021,
           2021,
           2021,
           2021,
           2021,
           2021,
           2021,
           2021,
           2021,
           2021,
           2021,
           2021,
           2021,
           2021,
           2022,
           2022,
           2022,
           2022,
           2022,
           2022,
           2022,
           2022,
           2022,
           2022,
           2022,
           2022,
           2022,
           2022,
           2022,
           2022,
           2022,
           2022,
           2022,
           2022,
           2022,
           2022,
           2022,
           2022,
           2022,
           2022,
           2022,
           2022,
           2022,
           2022,
           2022,
           2022,
           2022,
           2022,
           2022,
           2022,
           2023,
           2023,
           2023,
           2023,
           2023,
           2023,
           2023,
           2023,
           2023,
           2023,
           2023,
           2023,
           2023,
           2023,
           2023,
           2023,
           2023,
           2023,
           2023,
           2023,
           2023
          ],
          "coloraxis": "coloraxis",
>>>>>>> 5af1825474e5e175d23959053c2cb8d8441d10fc
          "pattern": {
           "shape": ""
          }
         },
         "name": "",
         "offsetgroup": "",
         "orientation": "v",
         "showlegend": false,
         "textposition": "auto",
         "type": "bar",
         "x": [
          "2021-02-01T00:00:00",
          "2021-02-01T00:00:00",
          "2021-02-01T00:00:00",
          "2021-03-01T00:00:00",
          "2021-03-01T00:00:00",
          "2021-03-01T00:00:00",
          "2021-04-01T00:00:00",
          "2021-04-01T00:00:00",
          "2021-04-01T00:00:00",
          "2021-05-01T00:00:00",
          "2021-05-01T00:00:00",
          "2021-05-01T00:00:00",
          "2021-06-01T00:00:00",
          "2021-06-01T00:00:00",
          "2021-06-01T00:00:00",
          "2021-07-01T00:00:00",
          "2021-07-01T00:00:00",
          "2021-07-01T00:00:00",
          "2021-08-01T00:00:00",
          "2021-08-01T00:00:00",
          "2021-08-01T00:00:00",
          "2021-09-01T00:00:00",
          "2021-09-01T00:00:00",
          "2021-09-01T00:00:00",
          "2021-10-01T00:00:00",
          "2021-10-01T00:00:00",
          "2021-10-01T00:00:00",
          "2021-11-01T00:00:00",
          "2021-11-01T00:00:00",
          "2021-11-01T00:00:00",
          "2021-12-01T00:00:00",
          "2021-12-01T00:00:00",
          "2021-12-01T00:00:00",
          "2022-01-01T00:00:00",
          "2022-01-01T00:00:00",
          "2022-01-01T00:00:00",
          "2022-02-01T00:00:00",
          "2022-02-01T00:00:00",
          "2022-02-01T00:00:00",
          "2022-03-01T00:00:00",
          "2022-03-01T00:00:00",
          "2022-03-01T00:00:00",
          "2022-04-01T00:00:00",
          "2022-04-01T00:00:00",
          "2022-04-01T00:00:00",
          "2022-05-01T00:00:00",
          "2022-05-01T00:00:00",
          "2022-05-01T00:00:00",
          "2022-06-01T00:00:00",
          "2022-06-01T00:00:00",
          "2022-06-01T00:00:00",
          "2022-07-01T00:00:00",
          "2022-07-01T00:00:00",
          "2022-07-01T00:00:00",
          "2022-08-01T00:00:00",
          "2022-08-01T00:00:00",
          "2022-08-01T00:00:00",
          "2022-09-01T00:00:00",
          "2022-09-01T00:00:00",
          "2022-09-01T00:00:00",
          "2022-10-01T00:00:00",
          "2022-10-01T00:00:00",
          "2022-10-01T00:00:00",
          "2022-11-01T00:00:00",
          "2022-11-01T00:00:00",
          "2022-11-01T00:00:00",
          "2022-12-01T00:00:00",
          "2022-12-01T00:00:00",
          "2022-12-01T00:00:00",
          "2023-01-01T00:00:00",
          "2023-01-01T00:00:00",
          "2023-01-01T00:00:00",
          "2023-02-01T00:00:00",
          "2023-02-01T00:00:00",
          "2023-02-01T00:00:00",
          "2023-03-01T00:00:00",
          "2023-03-01T00:00:00",
          "2023-03-01T00:00:00",
          "2023-04-01T00:00:00",
          "2023-04-01T00:00:00",
          "2023-04-01T00:00:00",
          "2023-05-01T00:00:00",
          "2023-05-01T00:00:00",
          "2023-05-01T00:00:00",
          "2023-06-01T00:00:00",
          "2023-06-01T00:00:00",
          "2023-06-01T00:00:00",
          "2023-07-01T00:00:00",
          "2023-07-01T00:00:00",
          "2023-07-01T00:00:00"
         ],
         "xaxis": "x",
         "y": [
          95.99,
          97.43,
          97.06,
          96.37,
          98.11,
          96.75,
          96.54,
          98.34,
          95.77,
          96.8,
          98.59,
          95.49,
          96.71,
          98.7,
          95.23,
          96.84,
          98.87,
          95.26,
          97.13,
          99.05,
          95.42,
          97.5,
          98.73,
          95.35,
          97.57,
          99.38,
          95.64,
          98.51,
          99.76,
          96.02,
          99.79,
          99.97,
          96.83,
          95.87,
          94.39,
          90.3,
          93.001,
          92.238,
          88.495,
          90.43,
          91.07,
          87.469,
          85.553,
          90.13,
          86.954,
          79.522,
          100,
          79.94,
          88.081,
          100,
          93.5,
          92.356,
          100,
          95.629,
          88.714,
          100,
          93.026,
          84.274,
          100,
          90.449,
          79.391,
          100,
          84.722,
          73.46,
          100,
          77.96,
          69.1,
          100,
          71.82,
          64.744,
          100,
          65.814,
          59.407,
          100,
          60.161,
          53.808,
          100,
          54.823,
          49.551,
          100,
          50.25,
          41.694,
          100,
          44.829,
          34.74,
          100,
          39.77,
          27.564,
          100,
          34.161
         ],
         "yaxis": "y"
        }
       ],
       "layout": {
        "barmode": "relative",
<<<<<<< HEAD
=======
        "coloraxis": {
         "colorbar": {
          "title": {
           "text": "year"
          }
         },
         "colorscale": [
          [
           0,
           "#0d0887"
          ],
          [
           0.1111111111111111,
           "#46039f"
          ],
          [
           0.2222222222222222,
           "#7201a8"
          ],
          [
           0.3333333333333333,
           "#9c179e"
          ],
          [
           0.4444444444444444,
           "#bd3786"
          ],
          [
           0.5555555555555556,
           "#d8576b"
          ],
          [
           0.6666666666666666,
           "#ed7953"
          ],
          [
           0.7777777777777778,
           "#fb9f3a"
          ],
          [
           0.8888888888888888,
           "#fdca26"
          ],
          [
           1,
           "#f0f921"
          ]
         ]
        },
>>>>>>> 5af1825474e5e175d23959053c2cb8d8441d10fc
        "legend": {
         "tracegroupgap": 0
        },
        "margin": {
         "t": 60
        },
        "template": {
         "data": {
          "bar": [
           {
            "error_x": {
             "color": "#2a3f5f"
            },
            "error_y": {
             "color": "#2a3f5f"
            },
            "marker": {
             "line": {
              "color": "#E5ECF6",
              "width": 0.5
             },
             "pattern": {
              "fillmode": "overlay",
              "size": 10,
              "solidity": 0.2
             }
            },
            "type": "bar"
           }
          ],
          "barpolar": [
           {
            "marker": {
             "line": {
              "color": "#E5ECF6",
              "width": 0.5
             },
             "pattern": {
              "fillmode": "overlay",
              "size": 10,
              "solidity": 0.2
             }
            },
            "type": "barpolar"
           }
          ],
          "carpet": [
           {
            "aaxis": {
             "endlinecolor": "#2a3f5f",
             "gridcolor": "white",
             "linecolor": "white",
             "minorgridcolor": "white",
             "startlinecolor": "#2a3f5f"
            },
            "baxis": {
             "endlinecolor": "#2a3f5f",
             "gridcolor": "white",
             "linecolor": "white",
             "minorgridcolor": "white",
             "startlinecolor": "#2a3f5f"
            },
            "type": "carpet"
           }
          ],
          "choropleth": [
           {
            "colorbar": {
             "outlinewidth": 0,
             "ticks": ""
            },
            "type": "choropleth"
           }
          ],
          "contour": [
           {
            "colorbar": {
             "outlinewidth": 0,
             "ticks": ""
            },
            "colorscale": [
             [
              0,
              "#0d0887"
             ],
             [
              0.1111111111111111,
              "#46039f"
             ],
             [
              0.2222222222222222,
              "#7201a8"
             ],
             [
              0.3333333333333333,
              "#9c179e"
             ],
             [
              0.4444444444444444,
              "#bd3786"
             ],
             [
              0.5555555555555556,
              "#d8576b"
             ],
             [
              0.6666666666666666,
              "#ed7953"
             ],
             [
              0.7777777777777778,
              "#fb9f3a"
             ],
             [
              0.8888888888888888,
              "#fdca26"
             ],
             [
              1,
              "#f0f921"
             ]
            ],
            "type": "contour"
           }
          ],
          "contourcarpet": [
           {
            "colorbar": {
             "outlinewidth": 0,
             "ticks": ""
            },
            "type": "contourcarpet"
           }
          ],
          "heatmap": [
           {
            "colorbar": {
             "outlinewidth": 0,
             "ticks": ""
            },
            "colorscale": [
             [
              0,
              "#0d0887"
             ],
             [
              0.1111111111111111,
              "#46039f"
             ],
             [
              0.2222222222222222,
              "#7201a8"
             ],
             [
              0.3333333333333333,
              "#9c179e"
             ],
             [
              0.4444444444444444,
              "#bd3786"
             ],
             [
              0.5555555555555556,
              "#d8576b"
             ],
             [
              0.6666666666666666,
              "#ed7953"
             ],
             [
              0.7777777777777778,
              "#fb9f3a"
             ],
             [
              0.8888888888888888,
              "#fdca26"
             ],
             [
              1,
              "#f0f921"
             ]
            ],
            "type": "heatmap"
           }
          ],
          "heatmapgl": [
           {
            "colorbar": {
             "outlinewidth": 0,
             "ticks": ""
            },
            "colorscale": [
             [
              0,
              "#0d0887"
             ],
             [
              0.1111111111111111,
              "#46039f"
             ],
             [
              0.2222222222222222,
              "#7201a8"
             ],
             [
              0.3333333333333333,
              "#9c179e"
             ],
             [
              0.4444444444444444,
              "#bd3786"
             ],
             [
              0.5555555555555556,
              "#d8576b"
             ],
             [
              0.6666666666666666,
              "#ed7953"
             ],
             [
              0.7777777777777778,
              "#fb9f3a"
             ],
             [
              0.8888888888888888,
              "#fdca26"
             ],
             [
              1,
              "#f0f921"
             ]
            ],
            "type": "heatmapgl"
           }
          ],
          "histogram": [
           {
            "marker": {
             "pattern": {
              "fillmode": "overlay",
              "size": 10,
              "solidity": 0.2
             }
            },
            "type": "histogram"
           }
          ],
          "histogram2d": [
           {
            "colorbar": {
             "outlinewidth": 0,
             "ticks": ""
            },
            "colorscale": [
             [
              0,
              "#0d0887"
             ],
             [
              0.1111111111111111,
              "#46039f"
             ],
             [
              0.2222222222222222,
              "#7201a8"
             ],
             [
              0.3333333333333333,
              "#9c179e"
             ],
             [
              0.4444444444444444,
              "#bd3786"
             ],
             [
              0.5555555555555556,
              "#d8576b"
             ],
             [
              0.6666666666666666,
              "#ed7953"
             ],
             [
              0.7777777777777778,
              "#fb9f3a"
             ],
             [
              0.8888888888888888,
              "#fdca26"
             ],
             [
              1,
              "#f0f921"
             ]
            ],
            "type": "histogram2d"
           }
          ],
          "histogram2dcontour": [
           {
            "colorbar": {
             "outlinewidth": 0,
             "ticks": ""
            },
            "colorscale": [
             [
              0,
              "#0d0887"
             ],
             [
              0.1111111111111111,
              "#46039f"
             ],
             [
              0.2222222222222222,
              "#7201a8"
             ],
             [
              0.3333333333333333,
              "#9c179e"
             ],
             [
              0.4444444444444444,
              "#bd3786"
             ],
             [
              0.5555555555555556,
              "#d8576b"
             ],
             [
              0.6666666666666666,
              "#ed7953"
             ],
             [
              0.7777777777777778,
              "#fb9f3a"
             ],
             [
              0.8888888888888888,
              "#fdca26"
             ],
             [
              1,
              "#f0f921"
             ]
            ],
            "type": "histogram2dcontour"
           }
          ],
          "mesh3d": [
           {
            "colorbar": {
             "outlinewidth": 0,
             "ticks": ""
            },
            "type": "mesh3d"
           }
          ],
          "parcoords": [
           {
            "line": {
             "colorbar": {
              "outlinewidth": 0,
              "ticks": ""
             }
            },
            "type": "parcoords"
           }
          ],
          "pie": [
           {
            "automargin": true,
            "type": "pie"
           }
          ],
          "scatter": [
           {
            "fillpattern": {
             "fillmode": "overlay",
             "size": 10,
             "solidity": 0.2
            },
            "type": "scatter"
           }
          ],
          "scatter3d": [
           {
            "line": {
             "colorbar": {
              "outlinewidth": 0,
              "ticks": ""
             }
            },
            "marker": {
             "colorbar": {
              "outlinewidth": 0,
              "ticks": ""
             }
            },
            "type": "scatter3d"
           }
          ],
          "scattercarpet": [
           {
            "marker": {
             "colorbar": {
              "outlinewidth": 0,
              "ticks": ""
             }
            },
            "type": "scattercarpet"
           }
          ],
          "scattergeo": [
           {
            "marker": {
             "colorbar": {
              "outlinewidth": 0,
              "ticks": ""
             }
            },
            "type": "scattergeo"
           }
          ],
          "scattergl": [
           {
            "marker": {
             "colorbar": {
              "outlinewidth": 0,
              "ticks": ""
             }
            },
            "type": "scattergl"
           }
          ],
          "scattermapbox": [
           {
            "marker": {
             "colorbar": {
              "outlinewidth": 0,
              "ticks": ""
             }
            },
            "type": "scattermapbox"
           }
          ],
          "scatterpolar": [
           {
            "marker": {
             "colorbar": {
              "outlinewidth": 0,
              "ticks": ""
             }
            },
            "type": "scatterpolar"
           }
          ],
          "scatterpolargl": [
           {
            "marker": {
             "colorbar": {
              "outlinewidth": 0,
              "ticks": ""
             }
            },
            "type": "scatterpolargl"
           }
          ],
          "scatterternary": [
           {
            "marker": {
             "colorbar": {
              "outlinewidth": 0,
              "ticks": ""
             }
            },
            "type": "scatterternary"
           }
          ],
          "surface": [
           {
            "colorbar": {
             "outlinewidth": 0,
             "ticks": ""
            },
            "colorscale": [
             [
              0,
              "#0d0887"
             ],
             [
              0.1111111111111111,
              "#46039f"
             ],
             [
              0.2222222222222222,
              "#7201a8"
             ],
             [
              0.3333333333333333,
              "#9c179e"
             ],
             [
              0.4444444444444444,
              "#bd3786"
             ],
             [
              0.5555555555555556,
              "#d8576b"
             ],
             [
              0.6666666666666666,
              "#ed7953"
             ],
             [
              0.7777777777777778,
              "#fb9f3a"
             ],
             [
              0.8888888888888888,
              "#fdca26"
             ],
             [
              1,
              "#f0f921"
             ]
            ],
            "type": "surface"
           }
          ],
          "table": [
           {
            "cells": {
             "fill": {
              "color": "#EBF0F8"
             },
             "line": {
              "color": "white"
             }
            },
            "header": {
             "fill": {
              "color": "#C8D4E3"
             },
             "line": {
              "color": "white"
             }
            },
            "type": "table"
           }
          ]
         },
         "layout": {
          "annotationdefaults": {
           "arrowcolor": "#2a3f5f",
           "arrowhead": 0,
           "arrowwidth": 1
          },
          "autotypenumbers": "strict",
          "coloraxis": {
           "colorbar": {
            "outlinewidth": 0,
            "ticks": ""
           }
          },
          "colorscale": {
           "diverging": [
            [
             0,
             "#8e0152"
            ],
            [
             0.1,
             "#c51b7d"
            ],
            [
             0.2,
             "#de77ae"
            ],
            [
             0.3,
             "#f1b6da"
            ],
            [
             0.4,
             "#fde0ef"
            ],
            [
             0.5,
             "#f7f7f7"
            ],
            [
             0.6,
             "#e6f5d0"
            ],
            [
             0.7,
             "#b8e186"
            ],
            [
             0.8,
             "#7fbc41"
            ],
            [
             0.9,
             "#4d9221"
            ],
            [
             1,
             "#276419"
            ]
           ],
           "sequential": [
            [
             0,
             "#0d0887"
            ],
            [
             0.1111111111111111,
             "#46039f"
            ],
            [
             0.2222222222222222,
             "#7201a8"
            ],
            [
             0.3333333333333333,
             "#9c179e"
            ],
            [
             0.4444444444444444,
             "#bd3786"
            ],
            [
             0.5555555555555556,
             "#d8576b"
            ],
            [
             0.6666666666666666,
             "#ed7953"
            ],
            [
             0.7777777777777778,
             "#fb9f3a"
            ],
            [
             0.8888888888888888,
             "#fdca26"
            ],
            [
             1,
             "#f0f921"
            ]
           ],
           "sequentialminus": [
            [
             0,
             "#0d0887"
            ],
            [
             0.1111111111111111,
             "#46039f"
            ],
            [
             0.2222222222222222,
             "#7201a8"
            ],
            [
             0.3333333333333333,
             "#9c179e"
            ],
            [
             0.4444444444444444,
             "#bd3786"
            ],
            [
             0.5555555555555556,
             "#d8576b"
            ],
            [
             0.6666666666666666,
             "#ed7953"
            ],
            [
             0.7777777777777778,
             "#fb9f3a"
            ],
            [
             0.8888888888888888,
             "#fdca26"
            ],
            [
             1,
             "#f0f921"
            ]
           ]
          },
          "colorway": [
           "#636efa",
           "#EF553B",
           "#00cc96",
           "#ab63fa",
           "#FFA15A",
           "#19d3f3",
           "#FF6692",
           "#B6E880",
           "#FF97FF",
           "#FECB52"
          ],
          "font": {
           "color": "#2a3f5f"
          },
          "geo": {
           "bgcolor": "white",
           "lakecolor": "white",
           "landcolor": "#E5ECF6",
           "showlakes": true,
           "showland": true,
           "subunitcolor": "white"
          },
          "hoverlabel": {
           "align": "left"
          },
          "hovermode": "closest",
          "mapbox": {
           "style": "light"
          },
          "paper_bgcolor": "white",
          "plot_bgcolor": "#E5ECF6",
          "polar": {
           "angularaxis": {
            "gridcolor": "white",
            "linecolor": "white",
            "ticks": ""
           },
           "bgcolor": "#E5ECF6",
           "radialaxis": {
            "gridcolor": "white",
            "linecolor": "white",
            "ticks": ""
           }
          },
          "scene": {
           "xaxis": {
            "backgroundcolor": "#E5ECF6",
            "gridcolor": "white",
            "gridwidth": 2,
            "linecolor": "white",
            "showbackground": true,
            "ticks": "",
            "zerolinecolor": "white"
           },
           "yaxis": {
            "backgroundcolor": "#E5ECF6",
            "gridcolor": "white",
            "gridwidth": 2,
            "linecolor": "white",
            "showbackground": true,
            "ticks": "",
            "zerolinecolor": "white"
           },
           "zaxis": {
            "backgroundcolor": "#E5ECF6",
            "gridcolor": "white",
            "gridwidth": 2,
            "linecolor": "white",
            "showbackground": true,
            "ticks": "",
            "zerolinecolor": "white"
           }
          },
          "shapedefaults": {
           "line": {
            "color": "#2a3f5f"
           }
          },
          "ternary": {
           "aaxis": {
            "gridcolor": "white",
            "linecolor": "white",
            "ticks": ""
           },
           "baxis": {
            "gridcolor": "white",
            "linecolor": "white",
            "ticks": ""
           },
           "bgcolor": "#E5ECF6",
           "caxis": {
            "gridcolor": "white",
            "linecolor": "white",
            "ticks": ""
           }
          },
          "title": {
           "x": 0.05
          },
          "xaxis": {
           "automargin": true,
           "gridcolor": "white",
           "linecolor": "white",
           "ticks": "",
           "title": {
            "standoff": 15
           },
           "zerolinecolor": "white",
           "zerolinewidth": 2
          },
          "yaxis": {
           "automargin": true,
           "gridcolor": "white",
           "linecolor": "white",
           "ticks": "",
           "title": {
            "standoff": 15
           },
           "zerolinecolor": "white",
           "zerolinewidth": 2
          }
         }
        },
        "xaxis": {
         "anchor": "y",
         "domain": [
          0,
          1
         ],
         "title": {
          "text": "Fecha"
         }
        },
        "yaxis": {
         "anchor": "x",
         "domain": [
          0,
          1
         ],
         "title": {
          "text": "Eficiencia servicio  Comercial (Eficiencia)"
         }
        }
       }
      }
     },
     "metadata": {},
     "output_type": "display_data"
    }
   ],
   "source": [
    "# Reclamos\n",
<<<<<<< HEAD
    "a = df_reclamos.copy()\n",
    "a[\"year\"] = a['Fecha'].dt.year\n",
    "a[\"month\"] = a['Fecha'].dt.month\n",
    "px.bar(a, y='Eficiencia servicio  Comercial (Eficiencia)', x='Fecha')"
   ]
  },
  {
   "cell_type": "markdown",
   "metadata": {},
   "source": [
    "# Llamados"
   ]
  },
  {
   "cell_type": "code",
   "execution_count": 11,
   "metadata": {},
   "outputs": [
    {
     "data": {
      "text/plain": [
       "['Periodo',\n",
       " 'Número total de llamadas recibidas por mes (NLLR)',\n",
       " 'Número total de llamadas atendidas en IVR por mes (NRIVR)',\n",
       " 'Número total de llamadas desistidas en IVR por mes (NDIVR)',\n",
       " 'Número total de llamadas atendidas por ejecutivo por mes (NREJC)',\n",
       " 'Número total de llamadas cursadas por gestión de abandono por mes (NGA)',\n",
       " 'Porcentaje de llamadas perdidas (LLP%)',\n",
       " 'Tasa de ocupación de las líneas, registradas con una frecuencia de una hora (OC)',\n",
       " 'Tiempo promedio de espera, considerando las llamadas atendidas por un ejecutivo (TPE)',\n",
       " 'Tiempo de conversación promedio, considerando las llamadas atendidas por un ejecutivo (TPC)']"
      ]
     },
     "execution_count": 11,
     "metadata": {},
     "output_type": "execute_result"
    }
   ],
   "source": [
    "df_llamados.columns.to_list()"
   ]
  },
  {
   "cell_type": "code",
   "execution_count": 12,
   "metadata": {},
   "outputs": [
    {
     "data": {
      "application/vnd.plotly.v1+json": {
       "config": {
        "plotlyServerURL": "https://plot.ly"
       },
       "data": [
        {
         "hovertemplate": "year=2023<br>Periodo=%{x}<br>Número total de llamadas recibidas por mes (NLLR)=%{y}<extra></extra>",
         "legendgroup": "2023",
         "line": {
          "color": "#636efa",
          "dash": "solid"
         },
         "marker": {
          "symbol": "circle"
         },
         "mode": "lines",
         "name": "2023",
         "orientation": "v",
         "showlegend": true,
         "type": "scatter",
         "x": [
          "2023-07-01T00:00:00",
          "2023-06-01T00:00:00",
          "2023-05-01T00:00:00",
          "2023-04-01T00:00:00",
          "2023-03-01T00:00:00",
          "2023-02-01T00:00:00",
          "2023-01-01T00:00:00"
         ],
         "xaxis": "x",
         "y": [
          2907,
          3785,
          3342,
          4280,
          3556,
          4078,
          3914
         ],
         "yaxis": "y"
        },
        {
         "hovertemplate": "year=2022<br>Periodo=%{x}<br>Número total de llamadas recibidas por mes (NLLR)=%{y}<extra></extra>",
         "legendgroup": "2022",
         "line": {
          "color": "#EF553B",
          "dash": "solid"
         },
         "marker": {
          "symbol": "circle"
         },
         "mode": "lines",
         "name": "2022",
         "orientation": "v",
         "showlegend": true,
         "type": "scatter",
         "x": [
          "2022-12-01T00:00:00",
          "2022-11-01T00:00:00",
          "2022-10-01T00:00:00",
          "2022-09-01T00:00:00",
          "2022-08-01T00:00:00",
          "2022-07-01T00:00:00",
          "2022-06-01T00:00:00",
          "2022-05-01T00:00:00",
          "2022-04-01T00:00:00",
          "2022-03-01T00:00:00",
          "2022-02-01T00:00:00",
          "2022-01-01T00:00:00"
         ],
         "xaxis": "x",
         "y": [
          3522,
          2933,
          3240,
          3263,
          3435,
          3765,
          2841,
          5277,
          6089,
          4871,
          5775,
          4582
         ],
         "yaxis": "y"
        },
        {
         "hovertemplate": "year=2021<br>Periodo=%{x}<br>Número total de llamadas recibidas por mes (NLLR)=%{y}<extra></extra>",
         "legendgroup": "2021",
         "line": {
          "color": "#00cc96",
          "dash": "solid"
         },
         "marker": {
          "symbol": "circle"
         },
         "mode": "lines",
         "name": "2021",
         "orientation": "v",
         "showlegend": true,
         "type": "scatter",
         "x": [
          "2021-12-01T00:00:00",
          "2021-11-01T00:00:00",
          "2021-10-01T00:00:00",
          "2021-09-01T00:00:00",
          "2021-08-01T00:00:00",
          "2021-07-01T00:00:00",
          "2021-06-01T00:00:00",
          "2021-05-01T00:00:00",
          "2021-04-01T00:00:00",
          "2021-03-01T00:00:00",
          "2021-02-01T00:00:00",
          "2021-01-01T00:00:00"
         ],
         "xaxis": "x",
         "y": [
          3579,
          2341,
          3798,
          5384,
          8021,
          3739,
          3774,
          3664,
          4118,
          3768,
          3365,
          6649
         ],
         "yaxis": "y"
        },
        {
         "hovertemplate": "year=2020<br>Periodo=%{x}<br>Número total de llamadas recibidas por mes (NLLR)=%{y}<extra></extra>",
         "legendgroup": "2020",
         "line": {
          "color": "#ab63fa",
          "dash": "solid"
         },
         "marker": {
          "symbol": "circle"
         },
         "mode": "lines",
         "name": "2020",
         "orientation": "v",
         "showlegend": true,
         "type": "scatter",
         "x": [
          "2020-12-01T00:00:00",
          "2020-11-01T00:00:00",
          "2020-10-01T00:00:00",
          "2020-09-01T00:00:00",
          "2020-08-01T00:00:00",
          "2020-07-01T00:00:00",
          "2020-06-01T00:00:00",
          "2020-05-01T00:00:00",
          "2020-04-01T00:00:00",
          "2020-03-01T00:00:00",
          "2020-02-01T00:00:00",
          "2020-01-01T00:00:00"
         ],
         "xaxis": "x",
         "y": [
          6374,
          4561,
          3709,
          2777,
          3211,
          3763,
          7047,
          1621,
          2509,
          2022,
          2271,
          3948
         ],
         "yaxis": "y"
        }
       ],
       "layout": {
        "legend": {
         "title": {
          "text": "year"
         },
         "tracegroupgap": 0
        },
        "margin": {
         "t": 60
        },
        "template": {
         "data": {
          "bar": [
           {
            "error_x": {
             "color": "#2a3f5f"
            },
            "error_y": {
             "color": "#2a3f5f"
            },
            "marker": {
             "line": {
              "color": "#E5ECF6",
              "width": 0.5
             },
             "pattern": {
              "fillmode": "overlay",
              "size": 10,
              "solidity": 0.2
             }
            },
            "type": "bar"
           }
          ],
          "barpolar": [
           {
            "marker": {
             "line": {
              "color": "#E5ECF6",
              "width": 0.5
             },
             "pattern": {
              "fillmode": "overlay",
              "size": 10,
              "solidity": 0.2
             }
            },
            "type": "barpolar"
           }
          ],
          "carpet": [
           {
            "aaxis": {
             "endlinecolor": "#2a3f5f",
             "gridcolor": "white",
             "linecolor": "white",
             "minorgridcolor": "white",
             "startlinecolor": "#2a3f5f"
            },
            "baxis": {
             "endlinecolor": "#2a3f5f",
             "gridcolor": "white",
             "linecolor": "white",
             "minorgridcolor": "white",
             "startlinecolor": "#2a3f5f"
            },
            "type": "carpet"
           }
          ],
          "choropleth": [
           {
            "colorbar": {
             "outlinewidth": 0,
             "ticks": ""
            },
            "type": "choropleth"
           }
          ],
          "contour": [
           {
            "colorbar": {
             "outlinewidth": 0,
             "ticks": ""
            },
            "colorscale": [
             [
              0,
              "#0d0887"
             ],
             [
              0.1111111111111111,
              "#46039f"
             ],
             [
              0.2222222222222222,
              "#7201a8"
             ],
             [
              0.3333333333333333,
              "#9c179e"
             ],
             [
              0.4444444444444444,
              "#bd3786"
             ],
             [
              0.5555555555555556,
              "#d8576b"
             ],
             [
              0.6666666666666666,
              "#ed7953"
             ],
             [
              0.7777777777777778,
              "#fb9f3a"
             ],
             [
              0.8888888888888888,
              "#fdca26"
             ],
             [
              1,
              "#f0f921"
             ]
            ],
            "type": "contour"
           }
          ],
          "contourcarpet": [
           {
            "colorbar": {
             "outlinewidth": 0,
             "ticks": ""
            },
            "type": "contourcarpet"
           }
          ],
          "heatmap": [
           {
            "colorbar": {
             "outlinewidth": 0,
             "ticks": ""
            },
            "colorscale": [
             [
              0,
              "#0d0887"
             ],
             [
              0.1111111111111111,
              "#46039f"
             ],
             [
              0.2222222222222222,
              "#7201a8"
             ],
             [
              0.3333333333333333,
              "#9c179e"
             ],
             [
              0.4444444444444444,
              "#bd3786"
             ],
             [
              0.5555555555555556,
              "#d8576b"
             ],
             [
              0.6666666666666666,
              "#ed7953"
             ],
             [
              0.7777777777777778,
              "#fb9f3a"
             ],
             [
              0.8888888888888888,
              "#fdca26"
             ],
             [
              1,
              "#f0f921"
             ]
            ],
            "type": "heatmap"
           }
          ],
          "heatmapgl": [
           {
            "colorbar": {
             "outlinewidth": 0,
             "ticks": ""
            },
            "colorscale": [
             [
              0,
              "#0d0887"
             ],
             [
              0.1111111111111111,
              "#46039f"
             ],
             [
              0.2222222222222222,
              "#7201a8"
             ],
             [
              0.3333333333333333,
              "#9c179e"
             ],
             [
              0.4444444444444444,
              "#bd3786"
             ],
             [
              0.5555555555555556,
              "#d8576b"
             ],
             [
              0.6666666666666666,
              "#ed7953"
             ],
             [
              0.7777777777777778,
              "#fb9f3a"
             ],
             [
              0.8888888888888888,
              "#fdca26"
             ],
             [
              1,
              "#f0f921"
             ]
            ],
            "type": "heatmapgl"
           }
          ],
          "histogram": [
           {
            "marker": {
             "pattern": {
              "fillmode": "overlay",
              "size": 10,
              "solidity": 0.2
             }
            },
            "type": "histogram"
           }
          ],
          "histogram2d": [
           {
            "colorbar": {
             "outlinewidth": 0,
             "ticks": ""
            },
            "colorscale": [
             [
              0,
              "#0d0887"
             ],
             [
              0.1111111111111111,
              "#46039f"
             ],
             [
              0.2222222222222222,
              "#7201a8"
             ],
             [
              0.3333333333333333,
              "#9c179e"
             ],
             [
              0.4444444444444444,
              "#bd3786"
             ],
             [
              0.5555555555555556,
              "#d8576b"
             ],
             [
              0.6666666666666666,
              "#ed7953"
             ],
             [
              0.7777777777777778,
              "#fb9f3a"
             ],
             [
              0.8888888888888888,
              "#fdca26"
             ],
             [
              1,
              "#f0f921"
             ]
            ],
            "type": "histogram2d"
           }
          ],
          "histogram2dcontour": [
           {
            "colorbar": {
             "outlinewidth": 0,
             "ticks": ""
            },
            "colorscale": [
             [
              0,
              "#0d0887"
             ],
             [
              0.1111111111111111,
              "#46039f"
             ],
             [
              0.2222222222222222,
              "#7201a8"
             ],
             [
              0.3333333333333333,
              "#9c179e"
             ],
             [
              0.4444444444444444,
              "#bd3786"
             ],
             [
              0.5555555555555556,
              "#d8576b"
             ],
             [
              0.6666666666666666,
              "#ed7953"
             ],
             [
              0.7777777777777778,
              "#fb9f3a"
             ],
             [
              0.8888888888888888,
              "#fdca26"
             ],
             [
              1,
              "#f0f921"
             ]
            ],
            "type": "histogram2dcontour"
           }
          ],
          "mesh3d": [
           {
            "colorbar": {
             "outlinewidth": 0,
             "ticks": ""
            },
            "type": "mesh3d"
           }
          ],
          "parcoords": [
           {
            "line": {
             "colorbar": {
              "outlinewidth": 0,
              "ticks": ""
             }
            },
            "type": "parcoords"
           }
          ],
          "pie": [
           {
            "automargin": true,
            "type": "pie"
           }
          ],
          "scatter": [
           {
            "fillpattern": {
             "fillmode": "overlay",
             "size": 10,
             "solidity": 0.2
            },
            "type": "scatter"
           }
          ],
          "scatter3d": [
           {
            "line": {
             "colorbar": {
              "outlinewidth": 0,
              "ticks": ""
             }
            },
            "marker": {
             "colorbar": {
              "outlinewidth": 0,
              "ticks": ""
             }
            },
            "type": "scatter3d"
           }
          ],
          "scattercarpet": [
           {
            "marker": {
             "colorbar": {
              "outlinewidth": 0,
              "ticks": ""
             }
            },
            "type": "scattercarpet"
           }
          ],
          "scattergeo": [
           {
            "marker": {
             "colorbar": {
              "outlinewidth": 0,
              "ticks": ""
             }
            },
            "type": "scattergeo"
           }
          ],
          "scattergl": [
           {
            "marker": {
             "colorbar": {
              "outlinewidth": 0,
              "ticks": ""
             }
            },
            "type": "scattergl"
           }
          ],
          "scattermapbox": [
           {
            "marker": {
             "colorbar": {
              "outlinewidth": 0,
              "ticks": ""
             }
            },
            "type": "scattermapbox"
           }
          ],
          "scatterpolar": [
           {
            "marker": {
             "colorbar": {
              "outlinewidth": 0,
              "ticks": ""
             }
            },
            "type": "scatterpolar"
           }
          ],
          "scatterpolargl": [
           {
            "marker": {
             "colorbar": {
              "outlinewidth": 0,
              "ticks": ""
             }
            },
            "type": "scatterpolargl"
           }
          ],
          "scatterternary": [
           {
            "marker": {
             "colorbar": {
              "outlinewidth": 0,
              "ticks": ""
             }
            },
            "type": "scatterternary"
           }
          ],
          "surface": [
           {
            "colorbar": {
             "outlinewidth": 0,
             "ticks": ""
            },
            "colorscale": [
             [
              0,
              "#0d0887"
             ],
             [
              0.1111111111111111,
              "#46039f"
             ],
             [
              0.2222222222222222,
              "#7201a8"
             ],
             [
              0.3333333333333333,
              "#9c179e"
             ],
             [
              0.4444444444444444,
              "#bd3786"
             ],
             [
              0.5555555555555556,
              "#d8576b"
             ],
             [
              0.6666666666666666,
              "#ed7953"
             ],
             [
              0.7777777777777778,
              "#fb9f3a"
             ],
             [
              0.8888888888888888,
              "#fdca26"
             ],
             [
              1,
              "#f0f921"
             ]
            ],
            "type": "surface"
           }
          ],
          "table": [
           {
            "cells": {
             "fill": {
              "color": "#EBF0F8"
             },
             "line": {
              "color": "white"
             }
            },
            "header": {
             "fill": {
              "color": "#C8D4E3"
             },
             "line": {
              "color": "white"
             }
            },
            "type": "table"
           }
          ]
         },
         "layout": {
          "annotationdefaults": {
           "arrowcolor": "#2a3f5f",
           "arrowhead": 0,
           "arrowwidth": 1
          },
          "autotypenumbers": "strict",
          "coloraxis": {
           "colorbar": {
            "outlinewidth": 0,
            "ticks": ""
           }
          },
          "colorscale": {
           "diverging": [
            [
             0,
             "#8e0152"
            ],
            [
             0.1,
             "#c51b7d"
            ],
            [
             0.2,
             "#de77ae"
            ],
            [
             0.3,
             "#f1b6da"
            ],
            [
             0.4,
             "#fde0ef"
            ],
            [
             0.5,
             "#f7f7f7"
            ],
            [
             0.6,
             "#e6f5d0"
            ],
            [
             0.7,
             "#b8e186"
            ],
            [
             0.8,
             "#7fbc41"
            ],
            [
             0.9,
             "#4d9221"
            ],
            [
             1,
             "#276419"
            ]
           ],
           "sequential": [
            [
             0,
             "#0d0887"
            ],
            [
             0.1111111111111111,
             "#46039f"
            ],
            [
             0.2222222222222222,
             "#7201a8"
            ],
            [
             0.3333333333333333,
             "#9c179e"
            ],
            [
             0.4444444444444444,
             "#bd3786"
            ],
            [
             0.5555555555555556,
             "#d8576b"
            ],
            [
             0.6666666666666666,
             "#ed7953"
            ],
            [
             0.7777777777777778,
             "#fb9f3a"
            ],
            [
             0.8888888888888888,
             "#fdca26"
            ],
            [
             1,
             "#f0f921"
            ]
           ],
           "sequentialminus": [
            [
             0,
             "#0d0887"
            ],
            [
             0.1111111111111111,
             "#46039f"
            ],
            [
             0.2222222222222222,
             "#7201a8"
            ],
            [
             0.3333333333333333,
             "#9c179e"
            ],
            [
             0.4444444444444444,
             "#bd3786"
            ],
            [
             0.5555555555555556,
             "#d8576b"
            ],
            [
             0.6666666666666666,
             "#ed7953"
            ],
            [
             0.7777777777777778,
             "#fb9f3a"
            ],
            [
             0.8888888888888888,
             "#fdca26"
            ],
            [
             1,
             "#f0f921"
            ]
           ]
          },
          "colorway": [
           "#636efa",
           "#EF553B",
           "#00cc96",
           "#ab63fa",
           "#FFA15A",
           "#19d3f3",
           "#FF6692",
           "#B6E880",
           "#FF97FF",
           "#FECB52"
          ],
          "font": {
           "color": "#2a3f5f"
          },
          "geo": {
           "bgcolor": "white",
           "lakecolor": "white",
           "landcolor": "#E5ECF6",
           "showlakes": true,
           "showland": true,
           "subunitcolor": "white"
          },
          "hoverlabel": {
           "align": "left"
          },
          "hovermode": "closest",
          "mapbox": {
           "style": "light"
          },
          "paper_bgcolor": "white",
          "plot_bgcolor": "#E5ECF6",
          "polar": {
           "angularaxis": {
            "gridcolor": "white",
            "linecolor": "white",
            "ticks": ""
           },
           "bgcolor": "#E5ECF6",
           "radialaxis": {
            "gridcolor": "white",
            "linecolor": "white",
            "ticks": ""
           }
          },
          "scene": {
           "xaxis": {
            "backgroundcolor": "#E5ECF6",
            "gridcolor": "white",
            "gridwidth": 2,
            "linecolor": "white",
            "showbackground": true,
            "ticks": "",
            "zerolinecolor": "white"
           },
           "yaxis": {
            "backgroundcolor": "#E5ECF6",
            "gridcolor": "white",
            "gridwidth": 2,
            "linecolor": "white",
            "showbackground": true,
            "ticks": "",
            "zerolinecolor": "white"
           },
           "zaxis": {
            "backgroundcolor": "#E5ECF6",
            "gridcolor": "white",
            "gridwidth": 2,
            "linecolor": "white",
            "showbackground": true,
            "ticks": "",
            "zerolinecolor": "white"
           }
          },
          "shapedefaults": {
           "line": {
            "color": "#2a3f5f"
           }
          },
          "ternary": {
           "aaxis": {
            "gridcolor": "white",
            "linecolor": "white",
            "ticks": ""
           },
           "baxis": {
            "gridcolor": "white",
            "linecolor": "white",
            "ticks": ""
           },
           "bgcolor": "#E5ECF6",
           "caxis": {
            "gridcolor": "white",
            "linecolor": "white",
            "ticks": ""
           }
          },
          "title": {
           "x": 0.05
          },
          "xaxis": {
           "automargin": true,
           "gridcolor": "white",
           "linecolor": "white",
           "ticks": "",
           "title": {
            "standoff": 15
           },
           "zerolinecolor": "white",
           "zerolinewidth": 2
          },
          "yaxis": {
           "automargin": true,
           "gridcolor": "white",
           "linecolor": "white",
           "ticks": "",
           "title": {
            "standoff": 15
           },
           "zerolinecolor": "white",
           "zerolinewidth": 2
          }
         }
        },
        "xaxis": {
         "anchor": "y",
         "domain": [
          0,
          1
         ],
         "title": {
          "text": "Periodo"
         }
        },
        "yaxis": {
         "anchor": "x",
         "domain": [
          0,
          1
         ],
         "title": {
          "text": "Número total de llamadas recibidas por mes (NLLR)"
         }
        }
       }
      }
     },
     "metadata": {},
     "output_type": "display_data"
    }
   ],
   "source": [
    "# Llamados\n",
    "a = df_llamados.copy()\n",
    "a[\"year\"] = a['Periodo'].dt.year\n",
    "a[\"month\"] = a['Periodo'].dt.month\n",
    "px.line(a, color='year', y='Número total de llamadas recibidas por mes (NLLR)', x='Periodo')"
   ]
  },
  {
   "cell_type": "markdown",
   "metadata": {},
   "source": [
    "# Fallas"
   ]
  },
  {
   "cell_type": "code",
   "execution_count": 13,
   "metadata": {},
   "outputs": [
    {
     "data": {
      "text/plain": [
       "['Periodo',\n",
       " 'Cantidad Eventos',\n",
       " 'Número avisos de clientes por eventos (total)',\n",
       " 'Tiempo promedio concurrencia ante eventos',\n",
       " 'Hora de Concurrencia Menor a 4 [Hr]',\n",
       " 'Hora de Concurrencia Mayor a 4 [Hr]',\n",
       " 'Porcentaje concurrencia menor a 4 [Hr]',\n",
       " 'Porcentaje concurrencia mayor a 4 [Hr]',\n",
       " 'Cantidad Eventos Operación Remota',\n",
       " 'Cantidad Eventos Operación Manual',\n",
       " 'Porcentaje falsas alarmas']"
      ]
     },
     "execution_count": 13,
     "metadata": {},
     "output_type": "execute_result"
    }
   ],
   "source": [
    "df_fallas.columns.to_list()"
   ]
  },
  {
   "cell_type": "code",
   "execution_count": 14,
   "metadata": {},
   "outputs": [
    {
     "data": {
      "application/vnd.plotly.v1+json": {
       "config": {
        "plotlyServerURL": "https://plot.ly"
       },
       "data": [
        {
         "hovertemplate": "year=2023<br>Periodo=%{x}<br>Número avisos de clientes por eventos (total)=%{y}<extra></extra>",
         "legendgroup": "2023",
         "line": {
          "color": "#636efa",
          "dash": "solid"
         },
         "marker": {
          "symbol": "circle"
         },
         "mode": "lines",
         "name": "2023",
         "orientation": "v",
         "showlegend": true,
         "type": "scatter",
         "x": [
          "2023-07-01T00:00:00",
          "2023-06-01T00:00:00",
          "2023-05-01T00:00:00",
          "2023-04-01T00:00:00",
          "2023-03-01T00:00:00",
          "2023-02-01T00:00:00",
          "2023-01-01T00:00:00"
         ],
         "xaxis": "x",
         "y": [
          261,
          362,
          338,
          493,
          251,
          618,
          437
         ],
         "yaxis": "y"
        },
        {
         "hovertemplate": "year=2022<br>Periodo=%{x}<br>Número avisos de clientes por eventos (total)=%{y}<extra></extra>",
         "legendgroup": "2022",
         "line": {
          "color": "#EF553B",
          "dash": "solid"
         },
         "marker": {
          "symbol": "circle"
         },
         "mode": "lines",
         "name": "2022",
         "orientation": "v",
         "showlegend": true,
         "type": "scatter",
         "x": [
          "2022-12-01T00:00:00",
          "2022-11-01T00:00:00",
          "2022-10-01T00:00:00",
          "2022-09-01T00:00:00",
          "2022-08-01T00:00:00"
         ],
         "xaxis": "x",
         "y": [
          330,
          260,
          362,
          183,
          485
         ],
         "yaxis": "y"
        }
       ],
       "layout": {
        "legend": {
         "title": {
          "text": "year"
         },
         "tracegroupgap": 0
        },
        "margin": {
         "t": 60
        },
        "template": {
         "data": {
          "bar": [
           {
            "error_x": {
             "color": "#2a3f5f"
            },
            "error_y": {
             "color": "#2a3f5f"
            },
            "marker": {
             "line": {
              "color": "#E5ECF6",
              "width": 0.5
             },
             "pattern": {
              "fillmode": "overlay",
              "size": 10,
              "solidity": 0.2
             }
            },
            "type": "bar"
           }
          ],
          "barpolar": [
           {
            "marker": {
             "line": {
              "color": "#E5ECF6",
              "width": 0.5
             },
             "pattern": {
              "fillmode": "overlay",
              "size": 10,
              "solidity": 0.2
             }
            },
            "type": "barpolar"
           }
          ],
          "carpet": [
           {
            "aaxis": {
             "endlinecolor": "#2a3f5f",
             "gridcolor": "white",
             "linecolor": "white",
             "minorgridcolor": "white",
             "startlinecolor": "#2a3f5f"
            },
            "baxis": {
             "endlinecolor": "#2a3f5f",
             "gridcolor": "white",
             "linecolor": "white",
             "minorgridcolor": "white",
             "startlinecolor": "#2a3f5f"
            },
            "type": "carpet"
           }
          ],
          "choropleth": [
           {
            "colorbar": {
             "outlinewidth": 0,
             "ticks": ""
            },
            "type": "choropleth"
           }
          ],
          "contour": [
           {
            "colorbar": {
             "outlinewidth": 0,
             "ticks": ""
            },
            "colorscale": [
             [
              0,
              "#0d0887"
             ],
             [
              0.1111111111111111,
              "#46039f"
             ],
             [
              0.2222222222222222,
              "#7201a8"
             ],
             [
              0.3333333333333333,
              "#9c179e"
             ],
             [
              0.4444444444444444,
              "#bd3786"
             ],
             [
              0.5555555555555556,
              "#d8576b"
             ],
             [
              0.6666666666666666,
              "#ed7953"
             ],
             [
              0.7777777777777778,
              "#fb9f3a"
             ],
             [
              0.8888888888888888,
              "#fdca26"
             ],
             [
              1,
              "#f0f921"
             ]
            ],
            "type": "contour"
           }
          ],
          "contourcarpet": [
           {
            "colorbar": {
             "outlinewidth": 0,
             "ticks": ""
            },
            "type": "contourcarpet"
           }
          ],
          "heatmap": [
           {
            "colorbar": {
             "outlinewidth": 0,
             "ticks": ""
            },
            "colorscale": [
             [
              0,
              "#0d0887"
             ],
             [
              0.1111111111111111,
              "#46039f"
             ],
             [
              0.2222222222222222,
              "#7201a8"
             ],
             [
              0.3333333333333333,
              "#9c179e"
             ],
             [
              0.4444444444444444,
              "#bd3786"
             ],
             [
              0.5555555555555556,
              "#d8576b"
             ],
             [
              0.6666666666666666,
              "#ed7953"
             ],
             [
              0.7777777777777778,
              "#fb9f3a"
             ],
             [
              0.8888888888888888,
              "#fdca26"
             ],
             [
              1,
              "#f0f921"
             ]
            ],
            "type": "heatmap"
           }
          ],
          "heatmapgl": [
           {
            "colorbar": {
             "outlinewidth": 0,
             "ticks": ""
            },
            "colorscale": [
             [
              0,
              "#0d0887"
             ],
             [
              0.1111111111111111,
              "#46039f"
             ],
             [
              0.2222222222222222,
              "#7201a8"
             ],
             [
              0.3333333333333333,
              "#9c179e"
             ],
             [
              0.4444444444444444,
              "#bd3786"
             ],
             [
              0.5555555555555556,
              "#d8576b"
             ],
             [
              0.6666666666666666,
              "#ed7953"
             ],
             [
              0.7777777777777778,
              "#fb9f3a"
             ],
             [
              0.8888888888888888,
              "#fdca26"
             ],
             [
              1,
              "#f0f921"
             ]
            ],
            "type": "heatmapgl"
           }
          ],
          "histogram": [
           {
            "marker": {
             "pattern": {
              "fillmode": "overlay",
              "size": 10,
              "solidity": 0.2
             }
            },
            "type": "histogram"
           }
          ],
          "histogram2d": [
           {
            "colorbar": {
             "outlinewidth": 0,
             "ticks": ""
            },
            "colorscale": [
             [
              0,
              "#0d0887"
             ],
             [
              0.1111111111111111,
              "#46039f"
             ],
             [
              0.2222222222222222,
              "#7201a8"
             ],
             [
              0.3333333333333333,
              "#9c179e"
             ],
             [
              0.4444444444444444,
              "#bd3786"
             ],
             [
              0.5555555555555556,
              "#d8576b"
             ],
             [
              0.6666666666666666,
              "#ed7953"
             ],
             [
              0.7777777777777778,
              "#fb9f3a"
             ],
             [
              0.8888888888888888,
              "#fdca26"
             ],
             [
              1,
              "#f0f921"
             ]
            ],
            "type": "histogram2d"
           }
          ],
          "histogram2dcontour": [
           {
            "colorbar": {
             "outlinewidth": 0,
             "ticks": ""
            },
            "colorscale": [
             [
              0,
              "#0d0887"
             ],
             [
              0.1111111111111111,
              "#46039f"
             ],
             [
              0.2222222222222222,
              "#7201a8"
             ],
             [
              0.3333333333333333,
              "#9c179e"
             ],
             [
              0.4444444444444444,
              "#bd3786"
             ],
             [
              0.5555555555555556,
              "#d8576b"
             ],
             [
              0.6666666666666666,
              "#ed7953"
             ],
             [
              0.7777777777777778,
              "#fb9f3a"
             ],
             [
              0.8888888888888888,
              "#fdca26"
             ],
             [
              1,
              "#f0f921"
             ]
            ],
            "type": "histogram2dcontour"
           }
          ],
          "mesh3d": [
           {
            "colorbar": {
             "outlinewidth": 0,
             "ticks": ""
            },
            "type": "mesh3d"
           }
          ],
          "parcoords": [
           {
            "line": {
             "colorbar": {
              "outlinewidth": 0,
              "ticks": ""
             }
            },
            "type": "parcoords"
           }
          ],
          "pie": [
           {
            "automargin": true,
            "type": "pie"
           }
          ],
          "scatter": [
           {
            "fillpattern": {
             "fillmode": "overlay",
             "size": 10,
             "solidity": 0.2
            },
            "type": "scatter"
           }
          ],
          "scatter3d": [
           {
            "line": {
             "colorbar": {
              "outlinewidth": 0,
              "ticks": ""
             }
            },
            "marker": {
             "colorbar": {
              "outlinewidth": 0,
              "ticks": ""
             }
            },
            "type": "scatter3d"
           }
          ],
          "scattercarpet": [
           {
            "marker": {
             "colorbar": {
              "outlinewidth": 0,
              "ticks": ""
             }
            },
            "type": "scattercarpet"
           }
          ],
          "scattergeo": [
           {
            "marker": {
             "colorbar": {
              "outlinewidth": 0,
              "ticks": ""
             }
            },
            "type": "scattergeo"
           }
          ],
          "scattergl": [
           {
            "marker": {
             "colorbar": {
              "outlinewidth": 0,
              "ticks": ""
             }
            },
            "type": "scattergl"
           }
          ],
          "scattermapbox": [
           {
            "marker": {
             "colorbar": {
              "outlinewidth": 0,
              "ticks": ""
             }
            },
            "type": "scattermapbox"
           }
          ],
          "scatterpolar": [
           {
            "marker": {
             "colorbar": {
              "outlinewidth": 0,
              "ticks": ""
             }
            },
            "type": "scatterpolar"
           }
          ],
          "scatterpolargl": [
           {
            "marker": {
             "colorbar": {
              "outlinewidth": 0,
              "ticks": ""
             }
            },
            "type": "scatterpolargl"
           }
          ],
          "scatterternary": [
           {
            "marker": {
             "colorbar": {
              "outlinewidth": 0,
              "ticks": ""
             }
            },
            "type": "scatterternary"
           }
          ],
          "surface": [
           {
            "colorbar": {
             "outlinewidth": 0,
             "ticks": ""
            },
            "colorscale": [
             [
              0,
              "#0d0887"
             ],
             [
              0.1111111111111111,
              "#46039f"
             ],
             [
              0.2222222222222222,
              "#7201a8"
             ],
             [
              0.3333333333333333,
              "#9c179e"
             ],
             [
              0.4444444444444444,
              "#bd3786"
             ],
             [
              0.5555555555555556,
              "#d8576b"
             ],
             [
              0.6666666666666666,
              "#ed7953"
             ],
             [
              0.7777777777777778,
              "#fb9f3a"
             ],
             [
              0.8888888888888888,
              "#fdca26"
             ],
             [
              1,
              "#f0f921"
             ]
            ],
            "type": "surface"
           }
          ],
          "table": [
           {
            "cells": {
             "fill": {
              "color": "#EBF0F8"
             },
             "line": {
              "color": "white"
             }
            },
            "header": {
             "fill": {
              "color": "#C8D4E3"
             },
             "line": {
              "color": "white"
             }
            },
            "type": "table"
           }
          ]
         },
         "layout": {
          "annotationdefaults": {
           "arrowcolor": "#2a3f5f",
           "arrowhead": 0,
           "arrowwidth": 1
          },
          "autotypenumbers": "strict",
          "coloraxis": {
           "colorbar": {
            "outlinewidth": 0,
            "ticks": ""
           }
          },
          "colorscale": {
           "diverging": [
            [
             0,
             "#8e0152"
            ],
            [
             0.1,
             "#c51b7d"
            ],
            [
             0.2,
             "#de77ae"
            ],
            [
             0.3,
             "#f1b6da"
            ],
            [
             0.4,
             "#fde0ef"
            ],
            [
             0.5,
             "#f7f7f7"
            ],
            [
             0.6,
             "#e6f5d0"
            ],
            [
             0.7,
             "#b8e186"
            ],
            [
             0.8,
             "#7fbc41"
            ],
            [
             0.9,
             "#4d9221"
            ],
            [
             1,
             "#276419"
            ]
           ],
           "sequential": [
            [
             0,
             "#0d0887"
            ],
            [
             0.1111111111111111,
             "#46039f"
            ],
            [
             0.2222222222222222,
             "#7201a8"
            ],
            [
             0.3333333333333333,
             "#9c179e"
            ],
            [
             0.4444444444444444,
             "#bd3786"
            ],
            [
             0.5555555555555556,
             "#d8576b"
            ],
            [
             0.6666666666666666,
             "#ed7953"
            ],
            [
             0.7777777777777778,
             "#fb9f3a"
            ],
            [
             0.8888888888888888,
             "#fdca26"
            ],
            [
             1,
             "#f0f921"
            ]
           ],
           "sequentialminus": [
            [
             0,
             "#0d0887"
            ],
            [
             0.1111111111111111,
             "#46039f"
            ],
            [
             0.2222222222222222,
             "#7201a8"
            ],
            [
             0.3333333333333333,
             "#9c179e"
            ],
            [
             0.4444444444444444,
             "#bd3786"
            ],
            [
             0.5555555555555556,
             "#d8576b"
            ],
            [
             0.6666666666666666,
             "#ed7953"
            ],
            [
             0.7777777777777778,
             "#fb9f3a"
            ],
            [
             0.8888888888888888,
             "#fdca26"
            ],
            [
             1,
             "#f0f921"
            ]
           ]
          },
          "colorway": [
           "#636efa",
           "#EF553B",
           "#00cc96",
           "#ab63fa",
           "#FFA15A",
           "#19d3f3",
           "#FF6692",
           "#B6E880",
           "#FF97FF",
           "#FECB52"
          ],
          "font": {
           "color": "#2a3f5f"
          },
          "geo": {
           "bgcolor": "white",
           "lakecolor": "white",
           "landcolor": "#E5ECF6",
           "showlakes": true,
           "showland": true,
           "subunitcolor": "white"
          },
          "hoverlabel": {
           "align": "left"
          },
          "hovermode": "closest",
          "mapbox": {
           "style": "light"
          },
          "paper_bgcolor": "white",
          "plot_bgcolor": "#E5ECF6",
          "polar": {
           "angularaxis": {
            "gridcolor": "white",
            "linecolor": "white",
            "ticks": ""
           },
           "bgcolor": "#E5ECF6",
           "radialaxis": {
            "gridcolor": "white",
            "linecolor": "white",
            "ticks": ""
           }
          },
          "scene": {
           "xaxis": {
            "backgroundcolor": "#E5ECF6",
            "gridcolor": "white",
            "gridwidth": 2,
            "linecolor": "white",
            "showbackground": true,
            "ticks": "",
            "zerolinecolor": "white"
           },
           "yaxis": {
            "backgroundcolor": "#E5ECF6",
            "gridcolor": "white",
            "gridwidth": 2,
            "linecolor": "white",
            "showbackground": true,
            "ticks": "",
            "zerolinecolor": "white"
           },
           "zaxis": {
            "backgroundcolor": "#E5ECF6",
            "gridcolor": "white",
            "gridwidth": 2,
            "linecolor": "white",
            "showbackground": true,
            "ticks": "",
            "zerolinecolor": "white"
           }
          },
          "shapedefaults": {
           "line": {
            "color": "#2a3f5f"
           }
          },
          "ternary": {
           "aaxis": {
            "gridcolor": "white",
            "linecolor": "white",
            "ticks": ""
           },
           "baxis": {
            "gridcolor": "white",
            "linecolor": "white",
            "ticks": ""
           },
           "bgcolor": "#E5ECF6",
           "caxis": {
            "gridcolor": "white",
            "linecolor": "white",
            "ticks": ""
           }
          },
          "title": {
           "x": 0.05
          },
          "xaxis": {
           "automargin": true,
           "gridcolor": "white",
           "linecolor": "white",
           "ticks": "",
           "title": {
            "standoff": 15
           },
           "zerolinecolor": "white",
           "zerolinewidth": 2
          },
          "yaxis": {
           "automargin": true,
           "gridcolor": "white",
           "linecolor": "white",
           "ticks": "",
           "title": {
            "standoff": 15
           },
           "zerolinecolor": "white",
           "zerolinewidth": 2
          }
         }
        },
        "xaxis": {
         "anchor": "y",
         "domain": [
          0,
          1
         ],
         "title": {
          "text": "Periodo"
         }
        },
        "yaxis": {
         "anchor": "x",
         "domain": [
          0,
          1
         ],
         "title": {
          "text": "Número avisos de clientes por eventos (total)"
         }
        }
       }
      }
     },
     "metadata": {},
     "output_type": "display_data"
    }
   ],
   "source": [
    "# Fallas\n",
    "a = df_fallas.copy()\n",
    "a[\"year\"] = a['Periodo'].dt.year\n",
    "a[\"month\"] = a['Periodo'].dt.month\n",
    "px.line(a, color='year', y='Número avisos de clientes por eventos (total)', x='Periodo')"
   ]
  },
  {
   "cell_type": "markdown",
   "metadata": {},
   "source": [
    "# Analysis"
   ]
  },
  {
   "cell_type": "code",
   "execution_count": null,
   "metadata": {},
   "outputs": [],
   "source": []
=======
    "a = df.copy()\n",
    "a[\"year\"] = a['Fecha'].dt.year\n",
    "a[\"month\"] = a['Fecha'].dt.month\n",
    "px.bar(a, color='year', y='Eficiencia servicio  Comercial (Eficiencia)', x='Fecha')"
   ]
>>>>>>> 5af1825474e5e175d23959053c2cb8d8441d10fc
  }
 ],
 "metadata": {
  "kernelspec": {
   "display_name": "test-env",
   "language": "python",
   "name": "python3"
  },
  "language_info": {
   "codemirror_mode": {
    "name": "ipython",
    "version": 3
   },
   "file_extension": ".py",
   "mimetype": "text/x-python",
   "name": "python",
   "nbconvert_exporter": "python",
   "pygments_lexer": "ipython3",
<<<<<<< HEAD
   "version": "3.11.4"
=======
   "version": "3.8.16"
>>>>>>> 5af1825474e5e175d23959053c2cb8d8441d10fc
  },
  "orig_nbformat": 4
 },
 "nbformat": 4,
 "nbformat_minor": 2
}
