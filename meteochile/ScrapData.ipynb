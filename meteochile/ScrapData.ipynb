{
 "cells": [
  {
   "cell_type": "code",
   "execution_count": 1,
   "metadata": {},
   "outputs": [],
   "source": [
    "import requests\n",
    "import zipfile\n",
    "import io\n",
    "import time\n",
    "import os\n",
    "import pandas as pd"
   ]
  },
  {
   "cell_type": "code",
   "execution_count": 2,
   "metadata": {},
   "outputs": [
    {
     "name": "stdout",
     "output_type": "stream",
     "text": [
      "File downloaded and saved as ./download/360011_201901_AguaCaida.csv.zip\n",
      "File downloaded and saved as ./download/360011_201902_AguaCaida.csv.zip\n",
      "File downloaded and saved as ./download/360011_201903_AguaCaida.csv.zip\n",
      "File downloaded and saved as ./download/360011_201904_AguaCaida.csv.zip\n",
      "File downloaded and saved as ./download/360011_201905_AguaCaida.csv.zip\n",
      "File downloaded and saved as ./download/360011_201906_AguaCaida.csv.zip\n",
      "File downloaded and saved as ./download/360011_201907_AguaCaida.csv.zip\n",
      "File downloaded and saved as ./download/360011_201908_AguaCaida.csv.zip\n",
      "File downloaded and saved as ./download/360011_201909_AguaCaida.csv.zip\n",
      "File downloaded and saved as ./download/360011_201910_AguaCaida.csv.zip\n",
      "File downloaded and saved as ./download/360011_201911_AguaCaida.csv.zip\n",
      "File downloaded and saved as ./download/360011_201912_AguaCaida.csv.zip\n",
      "File downloaded and saved as ./download/360011_202001_AguaCaida.csv.zip\n",
      "File downloaded and saved as ./download/360011_202002_AguaCaida.csv.zip\n",
      "File downloaded and saved as ./download/360011_202003_AguaCaida.csv.zip\n",
      "File downloaded and saved as ./download/360011_202004_AguaCaida.csv.zip\n",
      "File downloaded and saved as ./download/360011_202005_AguaCaida.csv.zip\n",
      "File downloaded and saved as ./download/360011_202006_AguaCaida.csv.zip\n",
      "File downloaded and saved as ./download/360011_202007_AguaCaida.csv.zip\n",
      "File downloaded and saved as ./download/360011_202008_AguaCaida.csv.zip\n",
      "File downloaded and saved as ./download/360011_202009_AguaCaida.csv.zip\n",
      "File downloaded and saved as ./download/360011_202010_AguaCaida.csv.zip\n",
      "File downloaded and saved as ./download/360011_202011_AguaCaida.csv.zip\n",
      "File downloaded and saved as ./download/360011_202012_AguaCaida.csv.zip\n",
      "File downloaded and saved as ./download/360011_202101_AguaCaida.csv.zip\n",
      "File downloaded and saved as ./download/360011_202102_AguaCaida.csv.zip\n",
      "File downloaded and saved as ./download/360011_202103_AguaCaida.csv.zip\n",
      "File downloaded and saved as ./download/360011_202104_AguaCaida.csv.zip\n",
      "File downloaded and saved as ./download/360011_202105_AguaCaida.csv.zip\n",
      "File downloaded and saved as ./download/360011_202106_AguaCaida.csv.zip\n",
      "File downloaded and saved as ./download/360011_202107_AguaCaida.csv.zip\n",
      "File downloaded and saved as ./download/360011_202108_AguaCaida.csv.zip\n",
      "File downloaded and saved as ./download/360011_202109_AguaCaida.csv.zip\n",
      "File downloaded and saved as ./download/360011_202110_AguaCaida.csv.zip\n",
      "File downloaded and saved as ./download/360011_202111_AguaCaida.csv.zip\n",
      "File downloaded and saved as ./download/360011_202112_AguaCaida.csv.zip\n",
      "File downloaded and saved as ./download/360011_202201_AguaCaida.csv.zip\n",
      "File downloaded and saved as ./download/360011_202202_AguaCaida.csv.zip\n",
      "File downloaded and saved as ./download/360011_202203_AguaCaida.csv.zip\n",
      "File downloaded and saved as ./download/360011_202204_AguaCaida.csv.zip\n",
      "File downloaded and saved as ./download/360011_202205_AguaCaida.csv.zip\n",
      "File downloaded and saved as ./download/360011_202206_AguaCaida.csv.zip\n",
      "File downloaded and saved as ./download/360011_202207_AguaCaida.csv.zip\n",
      "File downloaded and saved as ./download/360011_202208_AguaCaida.csv.zip\n",
      "File downloaded and saved as ./download/360011_202209_AguaCaida.csv.zip\n",
      "File downloaded and saved as ./download/360011_202210_AguaCaida.csv.zip\n",
      "File downloaded and saved as ./download/360011_202211_AguaCaida.csv.zip\n",
      "File downloaded and saved as ./download/360011_202212_AguaCaida.csv.zip\n",
      "File downloaded and saved as ./download/360011_202301_AguaCaida.csv.zip\n",
      "File downloaded and saved as ./download/360011_202302_AguaCaida.csv.zip\n",
      "File downloaded and saved as ./download/360011_202303_AguaCaida.csv.zip\n",
      "File downloaded and saved as ./download/360011_202304_AguaCaida.csv.zip\n",
      "File downloaded and saved as ./download/360011_202305_AguaCaida.csv.zip\n",
      "File downloaded and saved as ./download/360011_202306_AguaCaida.csv.zip\n",
      "File downloaded and saved as ./download/360011_202307_AguaCaida.csv.zip\n",
      "File downloaded and saved as ./download/360011_202308_AguaCaida.csv.zip\n",
      "File downloaded and saved as ./download/360011_202309_AguaCaida.csv.zip\n",
      "File downloaded and saved as ./download/360011_202310_AguaCaida.csv.zip\n",
      "File downloaded and saved as ./download/360011_202311_AguaCaida.csv.zip\n",
      "File downloaded and saved as ./download/360011_202312_AguaCaida.csv.zip\n"
     ]
    }
   ],
   "source": [
    "def downloadData():\n",
    "    years = ['2019', '2020', '2021', '2022', '2023']\n",
    "    months = [str(x).zfill(2) for x in range(1, 13)]\n",
    "\n",
    "    for y in years:\n",
    "        download_folder = './download/'\n",
    "        for m in months:\n",
    "            time.sleep(0.3)\n",
    "            date = y + m\n",
    "            # URL of the zip file\n",
    "            #file_url = f\"https://climatologia.meteochile.gob.cl/application/datos/getDatosEma/360011/360011_{date}_Viento.csv.zip\"\n",
    "            file_url = f\"https://climatologia.meteochile.gob.cl/application/datos/getDatosEma/360011/360011_{date}_AguaCaida.csv.zip\"\n",
    "\n",
    "            # Ensure the download folder exists, create if not\n",
    "            os.makedirs(download_folder, exist_ok=True)\n",
    "\n",
    "            # Extract the file name from the URL\n",
    "            file_name = file_url.split(\"/\")[-1]\n",
    "\n",
    "            # Construct the full path to save the file\n",
    "            file_path = os.path.join(download_folder, file_name)\n",
    "\n",
    "            # Send a GET request to download the file\n",
    "            response = requests.get(file_url)\n",
    "\n",
    "            # Check if the request was successful\n",
    "            if response.status_code == 200:\n",
    "                with open(file_path, 'wb') as f:\n",
    "                    f.write(response.content)\n",
    "                print(f\"File downloaded and saved as {file_path}\")\n",
    "            else:\n",
    "                print(f\"Failed to download the file. Status code: {response.status_code}\")\n",
    "#downloadData()"
   ]
  },
  {
   "cell_type": "code",
   "execution_count": 3,
   "metadata": {},
   "outputs": [
    {
     "name": "stdout",
     "output_type": "stream",
     "text": [
      "360011_201901_AguaCaida.csv.zip is not a valid zip file.\n",
      "Extracted 360011_201902_AguaCaida.csv.zip to ./data/\n",
      "Extracted 360011_201903_AguaCaida.csv.zip to ./data/\n",
      "Extracted 360011_201904_AguaCaida.csv.zip to ./data/\n",
      "Extracted 360011_201905_AguaCaida.csv.zip to ./data/\n",
      "Extracted 360011_201906_AguaCaida.csv.zip to ./data/\n",
      "Extracted 360011_201907_AguaCaida.csv.zip to ./data/\n",
      "Extracted 360011_201908_AguaCaida.csv.zip to ./data/\n",
      "Extracted 360011_201909_AguaCaida.csv.zip to ./data/\n",
      "Extracted 360011_201910_AguaCaida.csv.zip to ./data/\n",
      "Extracted 360011_201911_AguaCaida.csv.zip to ./data/\n",
      "Extracted 360011_201912_AguaCaida.csv.zip to ./data/\n",
      "Extracted 360011_202001_AguaCaida.csv.zip to ./data/\n",
      "Extracted 360011_202002_AguaCaida.csv.zip to ./data/\n",
      "Extracted 360011_202003_AguaCaida.csv.zip to ./data/\n",
      "Extracted 360011_202004_AguaCaida.csv.zip to ./data/\n",
      "Extracted 360011_202005_AguaCaida.csv.zip to ./data/\n",
      "Extracted 360011_202006_AguaCaida.csv.zip to ./data/\n",
      "Extracted 360011_202007_AguaCaida.csv.zip to ./data/\n",
      "Extracted 360011_202008_AguaCaida.csv.zip to ./data/\n",
      "Extracted 360011_202009_AguaCaida.csv.zip to ./data/\n",
      "Extracted 360011_202010_AguaCaida.csv.zip to ./data/\n",
      "Extracted 360011_202011_AguaCaida.csv.zip to ./data/\n",
      "Extracted 360011_202012_AguaCaida.csv.zip to ./data/\n",
      "Extracted 360011_202101_AguaCaida.csv.zip to ./data/\n",
      "Extracted 360011_202102_AguaCaida.csv.zip to ./data/\n",
      "Extracted 360011_202103_AguaCaida.csv.zip to ./data/\n",
      "Extracted 360011_202104_AguaCaida.csv.zip to ./data/\n",
      "Extracted 360011_202105_AguaCaida.csv.zip to ./data/\n",
      "Extracted 360011_202106_AguaCaida.csv.zip to ./data/\n",
      "Extracted 360011_202107_AguaCaida.csv.zip to ./data/\n",
      "Extracted 360011_202108_AguaCaida.csv.zip to ./data/\n",
      "Extracted 360011_202109_AguaCaida.csv.zip to ./data/\n",
      "Extracted 360011_202110_AguaCaida.csv.zip to ./data/\n",
      "Extracted 360011_202111_AguaCaida.csv.zip to ./data/\n",
      "Extracted 360011_202112_AguaCaida.csv.zip to ./data/\n",
      "Extracted 360011_202201_AguaCaida.csv.zip to ./data/\n",
      "Extracted 360011_202202_AguaCaida.csv.zip to ./data/\n",
      "Extracted 360011_202203_AguaCaida.csv.zip to ./data/\n",
      "Extracted 360011_202204_AguaCaida.csv.zip to ./data/\n",
      "Extracted 360011_202205_AguaCaida.csv.zip to ./data/\n",
      "Extracted 360011_202206_AguaCaida.csv.zip to ./data/\n",
      "Extracted 360011_202207_AguaCaida.csv.zip to ./data/\n",
      "Extracted 360011_202208_AguaCaida.csv.zip to ./data/\n",
      "Extracted 360011_202209_AguaCaida.csv.zip to ./data/\n",
      "Extracted 360011_202210_AguaCaida.csv.zip to ./data/\n",
      "Extracted 360011_202211_AguaCaida.csv.zip to ./data/\n",
      "Extracted 360011_202212_AguaCaida.csv.zip to ./data/\n",
      "Extracted 360011_202301_AguaCaida.csv.zip to ./data/\n",
      "Extracted 360011_202302_AguaCaida.csv.zip to ./data/\n",
      "Extracted 360011_202303_AguaCaida.csv.zip to ./data/\n",
      "Extracted 360011_202304_AguaCaida.csv.zip to ./data/\n",
      "Extracted 360011_202305_AguaCaida.csv.zip to ./data/\n",
      "Extracted 360011_202306_AguaCaida.csv.zip to ./data/\n",
      "Extracted 360011_202307_AguaCaida.csv.zip to ./data/\n",
      "360011_202308_AguaCaida.csv.zip is not a valid zip file.\n",
      "360011_202309_AguaCaida.csv.zip is not a valid zip file.\n",
      "360011_202310_AguaCaida.csv.zip is not a valid zip file.\n",
      "360011_202311_AguaCaida.csv.zip is not a valid zip file.\n",
      "360011_202312_AguaCaida.csv.zip is not a valid zip file.\n",
      "Extraction process completed.\n"
     ]
    }
   ],
   "source": [
    "def unzipData():\n",
    "    # Paths to the download and data folders\n",
    "    download_folder = \"./download/\"\n",
    "    data_folder = \"./data/\"\n",
    "\n",
    "    # Ensure the data folder exists, create if not\n",
    "    os.makedirs(data_folder, exist_ok=True)\n",
    "\n",
    "    # List all files in the download folder\n",
    "    download_files = os.listdir(download_folder)\n",
    "\n",
    "    # Loop through each file in the download folder\n",
    "    for file_name in download_files:\n",
    "        # Construct the full paths for the input and output files\n",
    "        input_file_path = os.path.join(download_folder, file_name)\n",
    "        output_folder_path = data_folder\n",
    "\n",
    "        # Check if the file is a zip file\n",
    "        if file_name.endswith(\".zip\"):\n",
    "            try:\n",
    "                # Open and extract the zip file\n",
    "                with zipfile.ZipFile(input_file_path, 'r') as zip_ref:\n",
    "                    # Extract all contents to the output folder\n",
    "                    zip_ref.extractall(output_folder_path)\n",
    "                print(f\"Extracted {file_name} to {output_folder_path}\")\n",
    "            except zipfile.BadZipFile:\n",
    "                print(f\"{file_name} is not a valid zip file.\")\n",
    "        else:\n",
    "            print(f\"{file_name} is not a zip file.\")\n",
    "\n",
    "    print(\"Extraction process completed.\")\n",
    "#unzipData()"
   ]
  },
  {
   "cell_type": "code",
   "execution_count": 4,
   "metadata": {},
   "outputs": [],
   "source": [
    "csv_folder = \"./data/\"\n",
    "\n",
    "csv_files = [file for file in os.listdir(csv_folder) if file.endswith('.csv')]\n",
    "\n",
    "dataframes = []\n",
    "\n",
    "for csv_file in csv_files:\n",
    "    csv_path = os.path.join(csv_folder, csv_file)\n",
    "    df = pd.read_csv(csv_path, delimiter=';')\n",
    "    dataframes.append(df)\n",
    "\n",
    "combined_df = pd.concat(dataframes, ignore_index=True)"
   ]
  },
  {
   "cell_type": "code",
   "execution_count": 5,
   "metadata": {},
   "outputs": [
    {
     "name": "stdout",
     "output_type": "stream",
     "text": [
      "<class 'pandas.core.frame.DataFrame'>\n",
      "RangeIndex: 2128546 entries, 0 to 2128545\n",
      "Data columns (total 14 columns):\n",
      " #   Column           Dtype  \n",
      "---  ------           -----  \n",
      " 0   codigoNacional   int64  \n",
      " 1   idEquipo         int64  \n",
      " 2   idPista          float64\n",
      " 3   momento          object \n",
      " 4   rrInst           float64\n",
      " 5   rr1Hora          float64\n",
      " 6   rr3Horas         float64\n",
      " 7   rr6Horas         float64\n",
      " 8   rr12Horas        float64\n",
      " 9   rr24Horas        float64\n",
      " 10  momentoRegistro  object \n",
      " 11  rrTotalAnual     float64\n",
      " 12  rr15m            float64\n",
      " 13  nieveAcumulada   float64\n",
      "dtypes: float64(10), int64(2), object(2)\n",
      "memory usage: 227.4+ MB\n"
     ]
    }
   ],
   "source": [
    "combined_df.info()"
   ]
  },
  {
   "cell_type": "code",
   "execution_count": 6,
   "metadata": {},
   "outputs": [
    {
     "data": {
      "text/plain": [
       "codigoNacional           0\n",
       "idEquipo                 0\n",
       "idPista            2128546\n",
       "momento                  0\n",
       "rrInst                   0\n",
       "rr1Hora                 12\n",
       "rr3Horas                12\n",
       "rr6Horas                12\n",
       "rr12Horas               12\n",
       "rr24Horas               12\n",
       "momentoRegistro          0\n",
       "rrTotalAnual       2128546\n",
       "rr15m              2128546\n",
       "nieveAcumulada     2128546\n",
       "dtype: int64"
      ]
     },
     "execution_count": 6,
     "metadata": {},
     "output_type": "execute_result"
    }
   ],
   "source": [
    "combined_df.isnull().sum()"
   ]
  },
  {
   "cell_type": "code",
   "execution_count": 13,
   "metadata": {},
   "outputs": [
    {
     "data": {
      "text/plain": [
       "<Axes: >"
      ]
     },
     "execution_count": 13,
     "metadata": {},
     "output_type": "execute_result"
    },
    {
     "data": {
      "image/png": "[encoded data removed]",
      "text/plain": [
       "<Figure size 640x480 with 1 Axes>"
      ]
     },
     "metadata": {},
     "output_type": "display_data"
    }
   ],
   "source": [
    "combined_df['rrInst'].plot()"
   ]
  },
  {
   "cell_type": "code",
   "execution_count": 7,
   "metadata": {},
   "outputs": [
    {
     "data": {
      "text/html": [
       "<div>\n",
       "<style scoped>\n",
       "    .dataframe tbody tr th:only-of-type {\n",
       "        vertical-align: middle;\n",
       "    }\n",
       "\n",
       "    .dataframe tbody tr th {\n",
       "        vertical-align: top;\n",
       "    }\n",
       "\n",
       "    .dataframe thead th {\n",
       "        text-align: right;\n",
       "    }\n",
       "</style>\n",
       "<table border=\"1\" class=\"dataframe\">\n",
       "  <thead>\n",
       "    <tr style=\"text-align: right;\">\n",
       "      <th></th>\n",
       "      <th>codigoNacional</th>\n",
       "      <th>idEquipo</th>\n",
       "      <th>momento</th>\n",
       "      <th>rrInst</th>\n",
       "    </tr>\n",
       "  </thead>\n",
       "  <tbody>\n",
       "    <tr>\n",
       "      <th>0</th>\n",
       "      <td>360011</td>\n",
       "      <td>0</td>\n",
       "      <td>2019-02-05 18:27:00</td>\n",
       "      <td>0.0</td>\n",
       "    </tr>\n",
       "    <tr>\n",
       "      <th>1</th>\n",
       "      <td>360011</td>\n",
       "      <td>0</td>\n",
       "      <td>2019-02-05 18:28:00</td>\n",
       "      <td>0.0</td>\n",
       "    </tr>\n",
       "    <tr>\n",
       "      <th>2</th>\n",
       "      <td>360011</td>\n",
       "      <td>0</td>\n",
       "      <td>2019-02-05 18:29:00</td>\n",
       "      <td>0.0</td>\n",
       "    </tr>\n",
       "    <tr>\n",
       "      <th>3</th>\n",
       "      <td>360011</td>\n",
       "      <td>0</td>\n",
       "      <td>2019-02-05 18:30:00</td>\n",
       "      <td>0.0</td>\n",
       "    </tr>\n",
       "    <tr>\n",
       "      <th>4</th>\n",
       "      <td>360011</td>\n",
       "      <td>0</td>\n",
       "      <td>2019-02-05 18:31:00</td>\n",
       "      <td>0.0</td>\n",
       "    </tr>\n",
       "    <tr>\n",
       "      <th>...</th>\n",
       "      <td>...</td>\n",
       "      <td>...</td>\n",
       "      <td>...</td>\n",
       "      <td>...</td>\n",
       "    </tr>\n",
       "    <tr>\n",
       "      <th>2128541</th>\n",
       "      <td>360011</td>\n",
       "      <td>0</td>\n",
       "      <td>2023-07-31 23:56:00</td>\n",
       "      <td>0.0</td>\n",
       "    </tr>\n",
       "    <tr>\n",
       "      <th>2128542</th>\n",
       "      <td>360011</td>\n",
       "      <td>0</td>\n",
       "      <td>2023-07-31 23:57:00</td>\n",
       "      <td>0.0</td>\n",
       "    </tr>\n",
       "    <tr>\n",
       "      <th>2128543</th>\n",
       "      <td>360011</td>\n",
       "      <td>0</td>\n",
       "      <td>2023-07-31 23:58:00</td>\n",
       "      <td>0.0</td>\n",
       "    </tr>\n",
       "    <tr>\n",
       "      <th>2128544</th>\n",
       "      <td>360011</td>\n",
       "      <td>0</td>\n",
       "      <td>2023-07-31 23:59:00</td>\n",
       "      <td>0.0</td>\n",
       "    </tr>\n",
       "    <tr>\n",
       "      <th>2128545</th>\n",
       "      <td>360011</td>\n",
       "      <td>0</td>\n",
       "      <td>2023-08-01 00:00:00</td>\n",
       "      <td>0.0</td>\n",
       "    </tr>\n",
       "  </tbody>\n",
       "</table>\n",
       "<p>2128546 rows × 4 columns</p>\n",
       "</div>"
      ],
      "text/plain": [
       "         codigoNacional  idEquipo              momento  rrInst\n",
       "0                360011         0  2019-02-05 18:27:00     0.0\n",
       "1                360011         0  2019-02-05 18:28:00     0.0\n",
       "2                360011         0  2019-02-05 18:29:00     0.0\n",
       "3                360011         0  2019-02-05 18:30:00     0.0\n",
       "4                360011         0  2019-02-05 18:31:00     0.0\n",
       "...                 ...       ...                  ...     ...\n",
       "2128541          360011         0  2023-07-31 23:56:00     0.0\n",
       "2128542          360011         0  2023-07-31 23:57:00     0.0\n",
       "2128543          360011         0  2023-07-31 23:58:00     0.0\n",
       "2128544          360011         0  2023-07-31 23:59:00     0.0\n",
       "2128545          360011         0  2023-08-01 00:00:00     0.0\n",
       "\n",
       "[2128546 rows x 4 columns]"
      ]
     },
     "execution_count": 7,
     "metadata": {},
     "output_type": "execute_result"
    }
   ],
   "source": [
    "result_df = combined_df[combined_df.columns[combined_df.isnull().sum() == 0]]\n",
    "result_df = result_df.drop(columns='momentoRegistro')\n",
    "result_df"
   ]
  },
  {
   "cell_type": "code",
   "execution_count": 14,
   "metadata": {},
   "outputs": [
    {
     "name": "stdout",
     "output_type": "stream",
     "text": [
      "<class 'pandas.core.frame.DataFrame'>\n",
      "RangeIndex: 2128546 entries, 0 to 2128545\n",
      "Data columns (total 4 columns):\n",
      " #   Column          Dtype  \n",
      "---  ------          -----  \n",
      " 0   codigoNacional  int64  \n",
      " 1   idEquipo        int64  \n",
      " 2   momento         object \n",
      " 3   rrInst          float64\n",
      "dtypes: float64(1), int64(2), object(1)\n",
      "memory usage: 65.0+ MB\n"
     ]
    },
    {
     "data": {
      "text/plain": [
       "(None,\n",
       " codigoNacional    0\n",
       " idEquipo          0\n",
       " momento           0\n",
       " rrInst            0\n",
       " dtype: int64)"
      ]
     },
     "execution_count": 14,
     "metadata": {},
     "output_type": "execute_result"
    }
   ],
   "source": [
    "result_df.info(), result_df.isnull().sum()"
   ]
  },
  {
   "cell_type": "code",
   "execution_count": 17,
   "metadata": {},
   "outputs": [
    {
     "data": {
      "text/plain": [
       "Index(['momento', 'rrInst'], dtype='object')"
      ]
     },
     "execution_count": 17,
     "metadata": {},
     "output_type": "execute_result"
    }
   ],
   "source": [
    "result_df = result_df.drop(columns=['idEquipo', 'codigoNacional'])\n",
    "result_df.columns"
   ]
  },
  {
   "cell_type": "code",
   "execution_count": 18,
   "metadata": {},
   "outputs": [],
   "source": [
    "result_df.to_csv('./dataset/lluvia_dataset.csv', sep=';', index=False)"
   ]
  },
  {
   "cell_type": "code",
   "execution_count": 21,
   "metadata": {},
   "outputs": [],
   "source": [
    "df_viento = pd.read_csv('./dataset/viento_dataset.csv', delimiter=';')"
   ]
  },
  {
   "cell_type": "code",
   "execution_count": 23,
   "metadata": {},
   "outputs": [],
   "source": [
    "df_viento = df_viento.drop(columns=['codigoNacional', 'idEquipo', 'dd02Minutos', 'dd10Minutos', 'ff02Minutos', 'ff10Minutos'])"
   ]
  },
  {
   "cell_type": "code",
   "execution_count": 24,
   "metadata": {},
   "outputs": [
    {
     "data": {
      "text/html": [
       "<div>\n",
       "<style scoped>\n",
       "    .dataframe tbody tr th:only-of-type {\n",
       "        vertical-align: middle;\n",
       "    }\n",
       "\n",
       "    .dataframe tbody tr th {\n",
       "        vertical-align: top;\n",
       "    }\n",
       "\n",
       "    .dataframe thead th {\n",
       "        text-align: right;\n",
       "    }\n",
       "</style>\n",
       "<table border=\"1\" class=\"dataframe\">\n",
       "  <thead>\n",
       "    <tr style=\"text-align: right;\">\n",
       "      <th></th>\n",
       "      <th>momento</th>\n",
       "      <th>ddInst</th>\n",
       "      <th>ffInst</th>\n",
       "    </tr>\n",
       "  </thead>\n",
       "  <tbody>\n",
       "    <tr>\n",
       "      <th>0</th>\n",
       "      <td>2019-02-05 18:27:00</td>\n",
       "      <td>218.0</td>\n",
       "      <td>9.7</td>\n",
       "    </tr>\n",
       "    <tr>\n",
       "      <th>1</th>\n",
       "      <td>2019-02-05 18:28:00</td>\n",
       "      <td>208.0</td>\n",
       "      <td>8.0</td>\n",
       "    </tr>\n",
       "    <tr>\n",
       "      <th>2</th>\n",
       "      <td>2019-02-05 18:29:00</td>\n",
       "      <td>230.0</td>\n",
       "      <td>6.2</td>\n",
       "    </tr>\n",
       "    <tr>\n",
       "      <th>3</th>\n",
       "      <td>2019-02-05 18:30:00</td>\n",
       "      <td>213.0</td>\n",
       "      <td>6.8</td>\n",
       "    </tr>\n",
       "    <tr>\n",
       "      <th>4</th>\n",
       "      <td>2019-02-05 18:31:00</td>\n",
       "      <td>232.0</td>\n",
       "      <td>9.3</td>\n",
       "    </tr>\n",
       "    <tr>\n",
       "      <th>...</th>\n",
       "      <td>...</td>\n",
       "      <td>...</td>\n",
       "      <td>...</td>\n",
       "    </tr>\n",
       "    <tr>\n",
       "      <th>2150608</th>\n",
       "      <td>2023-07-31 23:56:00</td>\n",
       "      <td>28.0</td>\n",
       "      <td>4.7</td>\n",
       "    </tr>\n",
       "    <tr>\n",
       "      <th>2150609</th>\n",
       "      <td>2023-07-31 23:57:00</td>\n",
       "      <td>28.0</td>\n",
       "      <td>4.9</td>\n",
       "    </tr>\n",
       "    <tr>\n",
       "      <th>2150610</th>\n",
       "      <td>2023-07-31 23:58:00</td>\n",
       "      <td>34.0</td>\n",
       "      <td>5.2</td>\n",
       "    </tr>\n",
       "    <tr>\n",
       "      <th>2150611</th>\n",
       "      <td>2023-07-31 23:59:00</td>\n",
       "      <td>32.0</td>\n",
       "      <td>5.4</td>\n",
       "    </tr>\n",
       "    <tr>\n",
       "      <th>2150612</th>\n",
       "      <td>2023-08-01 00:00:00</td>\n",
       "      <td>38.0</td>\n",
       "      <td>5.2</td>\n",
       "    </tr>\n",
       "  </tbody>\n",
       "</table>\n",
       "<p>2150613 rows × 3 columns</p>\n",
       "</div>"
      ],
      "text/plain": [
       "                     momento  ddInst  ffInst\n",
       "0        2019-02-05 18:27:00   218.0     9.7\n",
       "1        2019-02-05 18:28:00   208.0     8.0\n",
       "2        2019-02-05 18:29:00   230.0     6.2\n",
       "3        2019-02-05 18:30:00   213.0     6.8\n",
       "4        2019-02-05 18:31:00   232.0     9.3\n",
       "...                      ...     ...     ...\n",
       "2150608  2023-07-31 23:56:00    28.0     4.7\n",
       "2150609  2023-07-31 23:57:00    28.0     4.9\n",
       "2150610  2023-07-31 23:58:00    34.0     5.2\n",
       "2150611  2023-07-31 23:59:00    32.0     5.4\n",
       "2150612  2023-08-01 00:00:00    38.0     5.2\n",
       "\n",
       "[2150613 rows x 3 columns]"
      ]
     },
     "execution_count": 24,
     "metadata": {},
     "output_type": "execute_result"
    }
   ],
   "source": [
    "df_viento"
   ]
  },
  {
   "cell_type": "code",
   "execution_count": 25,
   "metadata": {},
   "outputs": [],
   "source": [
    "df_viento.to_csv('./dataset/viento_dataset.csv', sep=';', index=False)"
   ]
  }
 ],
 "metadata": {
  "kernelspec": {
   "display_name": "test-env",
   "language": "python",
   "name": "python3"
  },
  "language_info": {
   "codemirror_mode": {
    "name": "ipython",
    "version": 3
   },
   "file_extension": ".py",
   "mimetype": "text/x-python",
   "name": "python",
   "nbconvert_exporter": "python",
   "pygments_lexer": "ipython3",
   "version": "3.11.4"
  },
  "orig_nbformat": 4
 },
 "nbformat": 4,
 "nbformat_minor": 2
}
