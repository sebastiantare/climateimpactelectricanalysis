{
 "cells": [
  {
   "cell_type": "code",
   "execution_count": 1,
   "metadata": {},
   "outputs": [],
   "source": [
    "### General ###\n",
    "\n",
    "import numpy as np\n",
    "import pandas as pd\n",
    "import calendar\n",
    "\n",
    "#### Visualization Tools ###\n",
    "\n",
    "# Base of sns\n",
    "import matplotlib.pyplot as plt\n",
    "\n",
    "# Born on top of matplotlib, but more attractive\n",
    "import seaborn as sns\n",
    "\n",
    "# For interactive visualization, not good for too many datapoints\n",
    "import plotly.express as px\n",
    "from plotly.subplots import make_subplots\n",
    "import plotly.graph_objs as go"
   ]
  },
  {
   "cell_type": "code",
   "execution_count": 2,
   "metadata": {},
   "outputs": [
    {
     "data": {
      "text/html": [
       "<div>\n",
       "<style scoped>\n",
       "    .dataframe tbody tr th:only-of-type {\n",
       "        vertical-align: middle;\n",
       "    }\n",
       "\n",
       "    .dataframe tbody tr th {\n",
       "        vertical-align: top;\n",
       "    }\n",
       "\n",
       "    .dataframe thead th {\n",
       "        text-align: right;\n",
       "    }\n",
       "</style>\n",
       "<table border=\"1\" class=\"dataframe\">\n",
       "  <thead>\n",
       "    <tr style=\"text-align: right;\">\n",
       "      <th></th>\n",
       "      <th>codigoNacional</th>\n",
       "      <th>idEquipo</th>\n",
       "      <th>momento</th>\n",
       "      <th>ddInst</th>\n",
       "      <th>ffInst</th>\n",
       "      <th>dd02Minutos</th>\n",
       "      <th>ff02Minutos</th>\n",
       "      <th>dd10Minutos</th>\n",
       "      <th>ff10Minutos</th>\n",
       "    </tr>\n",
       "  </thead>\n",
       "  <tbody>\n",
       "    <tr>\n",
       "      <th>0</th>\n",
       "      <td>360011</td>\n",
       "      <td>0</td>\n",
       "      <td>2019-02-05 18:27:00</td>\n",
       "      <td>218.0</td>\n",
       "      <td>9.7</td>\n",
       "      <td>218.0</td>\n",
       "      <td>4.2</td>\n",
       "      <td>212.0</td>\n",
       "      <td>7.8</td>\n",
       "    </tr>\n",
       "    <tr>\n",
       "      <th>1</th>\n",
       "      <td>360011</td>\n",
       "      <td>0</td>\n",
       "      <td>2019-02-05 18:28:00</td>\n",
       "      <td>208.0</td>\n",
       "      <td>8.0</td>\n",
       "      <td>212.0</td>\n",
       "      <td>4.5</td>\n",
       "      <td>213.0</td>\n",
       "      <td>7.7</td>\n",
       "    </tr>\n",
       "    <tr>\n",
       "      <th>2</th>\n",
       "      <td>360011</td>\n",
       "      <td>0</td>\n",
       "      <td>2019-02-05 18:29:00</td>\n",
       "      <td>230.0</td>\n",
       "      <td>6.2</td>\n",
       "      <td>204.0</td>\n",
       "      <td>3.8</td>\n",
       "      <td>214.0</td>\n",
       "      <td>7.2</td>\n",
       "    </tr>\n",
       "    <tr>\n",
       "      <th>3</th>\n",
       "      <td>360011</td>\n",
       "      <td>0</td>\n",
       "      <td>2019-02-05 18:30:00</td>\n",
       "      <td>213.0</td>\n",
       "      <td>6.8</td>\n",
       "      <td>218.0</td>\n",
       "      <td>3.2</td>\n",
       "      <td>219.0</td>\n",
       "      <td>7.2</td>\n",
       "    </tr>\n",
       "    <tr>\n",
       "      <th>4</th>\n",
       "      <td>360011</td>\n",
       "      <td>0</td>\n",
       "      <td>2019-02-05 18:31:00</td>\n",
       "      <td>232.0</td>\n",
       "      <td>9.3</td>\n",
       "      <td>223.0</td>\n",
       "      <td>4.0</td>\n",
       "      <td>221.0</td>\n",
       "      <td>7.5</td>\n",
       "    </tr>\n",
       "    <tr>\n",
       "      <th>...</th>\n",
       "      <td>...</td>\n",
       "      <td>...</td>\n",
       "      <td>...</td>\n",
       "      <td>...</td>\n",
       "      <td>...</td>\n",
       "      <td>...</td>\n",
       "      <td>...</td>\n",
       "      <td>...</td>\n",
       "      <td>...</td>\n",
       "    </tr>\n",
       "    <tr>\n",
       "      <th>2150608</th>\n",
       "      <td>360011</td>\n",
       "      <td>0</td>\n",
       "      <td>2023-07-31 23:56:00</td>\n",
       "      <td>28.0</td>\n",
       "      <td>4.7</td>\n",
       "      <td>34.0</td>\n",
       "      <td>2.3</td>\n",
       "      <td>44.0</td>\n",
       "      <td>3.2</td>\n",
       "    </tr>\n",
       "    <tr>\n",
       "      <th>2150609</th>\n",
       "      <td>360011</td>\n",
       "      <td>0</td>\n",
       "      <td>2023-07-31 23:57:00</td>\n",
       "      <td>28.0</td>\n",
       "      <td>4.9</td>\n",
       "      <td>28.0</td>\n",
       "      <td>2.5</td>\n",
       "      <td>41.0</td>\n",
       "      <td>3.4</td>\n",
       "    </tr>\n",
       "    <tr>\n",
       "      <th>2150610</th>\n",
       "      <td>360011</td>\n",
       "      <td>0</td>\n",
       "      <td>2023-07-31 23:58:00</td>\n",
       "      <td>34.0</td>\n",
       "      <td>5.2</td>\n",
       "      <td>28.0</td>\n",
       "      <td>2.5</td>\n",
       "      <td>39.0</td>\n",
       "      <td>3.6</td>\n",
       "    </tr>\n",
       "    <tr>\n",
       "      <th>2150611</th>\n",
       "      <td>360011</td>\n",
       "      <td>0</td>\n",
       "      <td>2023-07-31 23:59:00</td>\n",
       "      <td>32.0</td>\n",
       "      <td>5.4</td>\n",
       "      <td>30.0</td>\n",
       "      <td>2.6</td>\n",
       "      <td>37.0</td>\n",
       "      <td>3.8</td>\n",
       "    </tr>\n",
       "    <tr>\n",
       "      <th>2150612</th>\n",
       "      <td>360011</td>\n",
       "      <td>0</td>\n",
       "      <td>2023-08-01 00:00:00</td>\n",
       "      <td>38.0</td>\n",
       "      <td>5.2</td>\n",
       "      <td>31.0</td>\n",
       "      <td>2.7</td>\n",
       "      <td>35.0</td>\n",
       "      <td>4.0</td>\n",
       "    </tr>\n",
       "  </tbody>\n",
       "</table>\n",
       "<p>2150613 rows × 9 columns</p>\n",
       "</div>"
      ],
      "text/plain": [
       "         codigoNacional  idEquipo             momento  ddInst  ffInst  \\\n",
       "0                360011         0 2019-02-05 18:27:00   218.0     9.7   \n",
       "1                360011         0 2019-02-05 18:28:00   208.0     8.0   \n",
       "2                360011         0 2019-02-05 18:29:00   230.0     6.2   \n",
       "3                360011         0 2019-02-05 18:30:00   213.0     6.8   \n",
       "4                360011         0 2019-02-05 18:31:00   232.0     9.3   \n",
       "...                 ...       ...                 ...     ...     ...   \n",
       "2150608          360011         0 2023-07-31 23:56:00    28.0     4.7   \n",
       "2150609          360011         0 2023-07-31 23:57:00    28.0     4.9   \n",
       "2150610          360011         0 2023-07-31 23:58:00    34.0     5.2   \n",
       "2150611          360011         0 2023-07-31 23:59:00    32.0     5.4   \n",
       "2150612          360011         0 2023-08-01 00:00:00    38.0     5.2   \n",
       "\n",
       "         dd02Minutos  ff02Minutos  dd10Minutos  ff10Minutos  \n",
       "0              218.0          4.2        212.0          7.8  \n",
       "1              212.0          4.5        213.0          7.7  \n",
       "2              204.0          3.8        214.0          7.2  \n",
       "3              218.0          3.2        219.0          7.2  \n",
       "4              223.0          4.0        221.0          7.5  \n",
       "...              ...          ...          ...          ...  \n",
       "2150608         34.0          2.3         44.0          3.2  \n",
       "2150609         28.0          2.5         41.0          3.4  \n",
       "2150610         28.0          2.5         39.0          3.6  \n",
       "2150611         30.0          2.6         37.0          3.8  \n",
       "2150612         31.0          2.7         35.0          4.0  \n",
       "\n",
       "[2150613 rows x 9 columns]"
      ]
     },
     "execution_count": 2,
     "metadata": {},
     "output_type": "execute_result"
    }
   ],
   "source": [
    "df_viento = pd.read_csv('./meteochile/dataset/viento_dataset.csv', delimiter=';')\n",
    "df_viento['momento'] = pd.to_datetime(df_viento['momento'])\n",
    "df_viento"
   ]
  },
  {
   "cell_type": "code",
   "execution_count": null,
   "metadata": {},
   "outputs": [],
   "source": []
  },
  {
   "cell_type": "code",
   "execution_count": 3,
   "metadata": {},
   "outputs": [
    {
     "data": {
      "text/html": [
       "<div>\n",
       "<style scoped>\n",
       "    .dataframe tbody tr th:only-of-type {\n",
       "        vertical-align: middle;\n",
       "    }\n",
       "\n",
       "    .dataframe tbody tr th {\n",
       "        vertical-align: top;\n",
       "    }\n",
       "\n",
       "    .dataframe thead th {\n",
       "        text-align: right;\n",
       "    }\n",
       "</style>\n",
       "<table border=\"1\" class=\"dataframe\">\n",
       "  <thead>\n",
       "    <tr style=\"text-align: right;\">\n",
       "      <th></th>\n",
       "      <th>Periodo</th>\n",
       "      <th>Número total de llamadas recibidas por mes (NLLR)</th>\n",
       "      <th>Número total de llamadas atendidas en IVR por mes (NRIVR)</th>\n",
       "      <th>Número total de llamadas desistidas en IVR por mes (NDIVR)</th>\n",
       "      <th>Número total de llamadas atendidas por ejecutivo por mes (NREJC)</th>\n",
       "      <th>Número total de llamadas cursadas por gestión de abandono por mes (NGA)</th>\n",
       "      <th>Porcentaje de llamadas perdidas (LLP%)</th>\n",
       "      <th>Tasa de ocupación de las líneas, registradas con una frecuencia de una hora (OC)</th>\n",
       "      <th>Tiempo promedio de espera, considerando las llamadas atendidas por un ejecutivo (TPE)</th>\n",
       "      <th>Tiempo de conversación promedio, considerando las llamadas atendidas por un ejecutivo (TPC)</th>\n",
       "    </tr>\n",
       "  </thead>\n",
       "  <tbody>\n",
       "    <tr>\n",
       "      <th>0</th>\n",
       "      <td>2023-07-01</td>\n",
       "      <td>2907</td>\n",
       "      <td>700</td>\n",
       "      <td>0</td>\n",
       "      <td>2207</td>\n",
       "      <td>478</td>\n",
       "      <td>16.44</td>\n",
       "      <td>0</td>\n",
       "      <td>00:05:09</td>\n",
       "      <td>00:07:24</td>\n",
       "    </tr>\n",
       "    <tr>\n",
       "      <th>1</th>\n",
       "      <td>2023-06-01</td>\n",
       "      <td>3785</td>\n",
       "      <td>925</td>\n",
       "      <td>0</td>\n",
       "      <td>1972</td>\n",
       "      <td>554</td>\n",
       "      <td>14.63</td>\n",
       "      <td>0</td>\n",
       "      <td>00:04:51</td>\n",
       "      <td>00:07:09</td>\n",
       "    </tr>\n",
       "    <tr>\n",
       "      <th>2</th>\n",
       "      <td>2023-05-01</td>\n",
       "      <td>3342</td>\n",
       "      <td>816</td>\n",
       "      <td>0</td>\n",
       "      <td>1958</td>\n",
       "      <td>902</td>\n",
       "      <td>26.98</td>\n",
       "      <td>0</td>\n",
       "      <td>00:04:28</td>\n",
       "      <td>00:06:58</td>\n",
       "    </tr>\n",
       "    <tr>\n",
       "      <th>3</th>\n",
       "      <td>2023-04-01</td>\n",
       "      <td>4280</td>\n",
       "      <td>938</td>\n",
       "      <td>0</td>\n",
       "      <td>2285</td>\n",
       "      <td>1057</td>\n",
       "      <td>24.69</td>\n",
       "      <td>0</td>\n",
       "      <td>00:04:56</td>\n",
       "      <td>00:06:48</td>\n",
       "    </tr>\n",
       "    <tr>\n",
       "      <th>4</th>\n",
       "      <td>2023-03-01</td>\n",
       "      <td>3556</td>\n",
       "      <td>806</td>\n",
       "      <td>0</td>\n",
       "      <td>2163</td>\n",
       "      <td>587</td>\n",
       "      <td>16.50</td>\n",
       "      <td>0</td>\n",
       "      <td>00:04:33</td>\n",
       "      <td>00:06:14</td>\n",
       "    </tr>\n",
       "  </tbody>\n",
       "</table>\n",
       "</div>"
      ],
      "text/plain": [
       "      Periodo  Número total de llamadas recibidas por mes (NLLR)  \\\n",
       "0  2023-07-01                                               2907   \n",
       "1  2023-06-01                                               3785   \n",
       "2  2023-05-01                                               3342   \n",
       "3  2023-04-01                                               4280   \n",
       "4  2023-03-01                                               3556   \n",
       "\n",
       "   Número total de llamadas atendidas en IVR por mes (NRIVR)  \\\n",
       "0                                                700           \n",
       "1                                                925           \n",
       "2                                                816           \n",
       "3                                                938           \n",
       "4                                                806           \n",
       "\n",
       "   Número total de llamadas desistidas en IVR por mes (NDIVR)  \\\n",
       "0                                                  0            \n",
       "1                                                  0            \n",
       "2                                                  0            \n",
       "3                                                  0            \n",
       "4                                                  0            \n",
       "\n",
       "   Número total de llamadas atendidas por ejecutivo por mes (NREJC)  \\\n",
       "0                                               2207                  \n",
       "1                                               1972                  \n",
       "2                                               1958                  \n",
       "3                                               2285                  \n",
       "4                                               2163                  \n",
       "\n",
       "   Número total de llamadas cursadas por gestión de abandono por mes (NGA)  \\\n",
       "0                                                478                         \n",
       "1                                                554                         \n",
       "2                                                902                         \n",
       "3                                               1057                         \n",
       "4                                                587                         \n",
       "\n",
       "   Porcentaje de llamadas perdidas (LLP%)  \\\n",
       "0                                   16.44   \n",
       "1                                   14.63   \n",
       "2                                   26.98   \n",
       "3                                   24.69   \n",
       "4                                   16.50   \n",
       "\n",
       "   Tasa de ocupación de las líneas, registradas con una frecuencia de una hora (OC)  \\\n",
       "0                                                  0                                  \n",
       "1                                                  0                                  \n",
       "2                                                  0                                  \n",
       "3                                                  0                                  \n",
       "4                                                  0                                  \n",
       "\n",
       "  Tiempo promedio de espera, considerando las llamadas atendidas por un ejecutivo (TPE)  \\\n",
       "0                                           00:05:09                                      \n",
       "1                                           00:04:51                                      \n",
       "2                                           00:04:28                                      \n",
       "3                                           00:04:56                                      \n",
       "4                                           00:04:33                                      \n",
       "\n",
       "  Tiempo de conversación promedio, considerando las llamadas atendidas por un ejecutivo (TPC)  \n",
       "0                                           00:07:24                                           \n",
       "1                                           00:07:09                                           \n",
       "2                                           00:06:58                                           \n",
       "3                                           00:06:48                                           \n",
       "4                                           00:06:14                                           "
      ]
     },
     "execution_count": 3,
     "metadata": {},
     "output_type": "execute_result"
    }
   ],
   "source": [
    "df_llamados = pd.read_csv('./coelcha/llamados_clean.csv')\n",
    "df_viento['momento'] = pd.to_datetime(df_viento['momento'])\n",
    "df_llamados.head()"
   ]
  },
  {
   "cell_type": "code",
   "execution_count": 4,
   "metadata": {},
   "outputs": [
    {
     "data": {
      "application/vnd.plotly.v1+json": {
       "config": {
        "plotlyServerURL": "https://plot.ly"
       },
       "data": [
        {
         "hovertemplate": "variable=ffInst<br>momento=%{x}<br>Scaled Value=%{y}<extra></extra>",
         "legendgroup": "ffInst",
         "line": {
          "color": "#636efa",
          "dash": "solid"
         },
         "marker": {
          "symbol": "circle"
         },
         "mode": "lines",
         "name": "ffInst",
         "orientation": "v",
         "showlegend": true,
         "type": "scatter",
         "x": [
          "2023-07-01T00:00:00",
          "2023-06-01T00:00:00",
          "2023-05-01T00:00:00",
          "2023-04-01T00:00:00",
          "2023-03-01T00:00:00",
          "2023-02-01T00:00:00",
          "2023-01-01T00:00:00",
          "2022-12-01T00:00:00",
          "2022-11-01T00:00:00",
          "2022-10-01T00:00:00",
          "2022-09-01T00:00:00",
          "2022-08-01T00:00:00",
          "2022-07-01T00:00:00",
          "2022-06-01T00:00:00",
          "2022-05-01T00:00:00",
          "2022-04-01T00:00:00",
          "2022-03-01T00:00:00",
          "2022-02-01T00:00:00",
          "2022-01-01T00:00:00",
          "2021-12-01T00:00:00",
          "2021-11-01T00:00:00",
          "2021-10-01T00:00:00",
          "2021-09-01T00:00:00",
          "2021-08-01T00:00:00",
          "2021-07-01T00:00:00",
          "2021-06-01T00:00:00",
          "2021-05-01T00:00:00",
          "2021-04-01T00:00:00",
          "2021-03-01T00:00:00",
          "2021-02-01T00:00:00",
          "2021-01-01T00:00:00",
          "2020-12-01T00:00:00",
          "2020-11-01T00:00:00",
          "2020-10-01T00:00:00",
          "2020-09-01T00:00:00",
          "2020-08-01T00:00:00",
          "2020-07-01T00:00:00",
          "2020-06-01T00:00:00",
          "2020-05-01T00:00:00",
          "2020-04-01T00:00:00",
          "2020-03-01T00:00:00",
          "2020-02-01T00:00:00",
          "2020-01-01T00:00:00"
         ],
         "xaxis": "x",
         "y": [
          0,
          0.7295721819898329,
          0.6735344345651626,
          0.5711824974519342,
          0.661402133464549,
          0.8965678090397644,
          0.5025528536193693,
          0.9720641374729997,
          0.7649554703241965,
          0.7307602503339181,
          0.5693637139875971,
          0.7245769661916597,
          0.774157012288391,
          0.598607696158765,
          0.5281156779328082,
          0.8358046932102479,
          0.8711676750035477,
          0.7829506694136961,
          0.6657881843431654,
          0.7329260849051198,
          0.7892768049394447,
          0.908941095581729,
          0.7065341099442668,
          0.8015265492161145,
          0.8770384627707941,
          0.7361530292024399,
          0.6090901945361831,
          0.6206189045707837,
          0.5724762897672888,
          0.5488684590487252,
          0.9024424794891099,
          1,
          0.7775998696509288,
          0.7528137490377693,
          0.7232161760477709,
          0.9083710543655426,
          0.7168242811156724,
          0.8119504162936901,
          0.5332887892691807,
          0.7643248719944262,
          0.723394305378416,
          0.851032180071768,
          0.9995567506759415
         ],
         "yaxis": "y"
        },
        {
         "hovertemplate": "variable=Número total de llamadas recibidas por mes (NLLR)<br>momento=%{x}<br>Scaled Value=%{y}<extra></extra>",
         "legendgroup": "Número total de llamadas recibidas por mes (NLLR)",
         "line": {
          "color": "#EF553B",
          "dash": "solid"
         },
         "marker": {
          "symbol": "circle"
         },
         "mode": "lines",
         "name": "Número total de llamadas recibidas por mes (NLLR)",
         "orientation": "v",
         "showlegend": true,
         "type": "scatter",
         "x": [
          "2023-07-01T00:00:00",
          "2023-06-01T00:00:00",
          "2023-05-01T00:00:00",
          "2023-04-01T00:00:00",
          "2023-03-01T00:00:00",
          "2023-02-01T00:00:00",
          "2023-01-01T00:00:00",
          "2022-12-01T00:00:00",
          "2022-11-01T00:00:00",
          "2022-10-01T00:00:00",
          "2022-09-01T00:00:00",
          "2022-08-01T00:00:00",
          "2022-07-01T00:00:00",
          "2022-06-01T00:00:00",
          "2022-05-01T00:00:00",
          "2022-04-01T00:00:00",
          "2022-03-01T00:00:00",
          "2022-02-01T00:00:00",
          "2022-01-01T00:00:00",
          "2021-12-01T00:00:00",
          "2021-11-01T00:00:00",
          "2021-10-01T00:00:00",
          "2021-09-01T00:00:00",
          "2021-08-01T00:00:00",
          "2021-07-01T00:00:00",
          "2021-06-01T00:00:00",
          "2021-05-01T00:00:00",
          "2021-04-01T00:00:00",
          "2021-03-01T00:00:00",
          "2021-02-01T00:00:00",
          "2021-01-01T00:00:00",
          "2020-12-01T00:00:00",
          "2020-11-01T00:00:00",
          "2020-10-01T00:00:00",
          "2020-09-01T00:00:00",
          "2020-08-01T00:00:00",
          "2020-07-01T00:00:00",
          "2020-06-01T00:00:00",
          "2020-05-01T00:00:00",
          "2020-04-01T00:00:00",
          "2020-03-01T00:00:00",
          "2020-02-01T00:00:00",
          "2020-01-01T00:00:00"
         ],
         "xaxis": "x",
         "y": [
          0.2009375,
          0.338125,
          0.26890625,
          0.41546875000000005,
          0.30234375,
          0.38390625,
          0.35828125,
          0.29703124999999997,
          0.20500000000000002,
          0.25296874999999996,
          0.2565625,
          0.2834375,
          0.33499999999999996,
          0.190625,
          0.57125,
          0.698125,
          0.5078125,
          0.6490625,
          0.46265625,
          0.3059375,
          0.11249999999999999,
          0.34015625000000005,
          0.58796875,
          1,
          0.3309375,
          0.33640625,
          0.31921875,
          0.39015625,
          0.33546875,
          0.27249999999999996,
          0.7856249999999999,
          0.74265625,
          0.459375,
          0.32625000000000004,
          0.18062499999999998,
          0.24843749999999998,
          0.3346875,
          0.8478125,
          0,
          0.13874999999999998,
          0.06265624999999997,
          0.1015625,
          0.36359375000000005
         ],
         "yaxis": "y"
        }
       ],
       "layout": {
        "legend": {
         "title": {
          "text": "variable"
         },
         "tracegroupgap": 0
        },
        "template": {
         "data": {
          "bar": [
           {
            "error_x": {
             "color": "#2a3f5f"
            },
            "error_y": {
             "color": "#2a3f5f"
            },
            "marker": {
             "line": {
              "color": "#E5ECF6",
              "width": 0.5
             },
             "pattern": {
              "fillmode": "overlay",
              "size": 10,
              "solidity": 0.2
             }
            },
            "type": "bar"
           }
          ],
          "barpolar": [
           {
            "marker": {
             "line": {
              "color": "#E5ECF6",
              "width": 0.5
             },
             "pattern": {
              "fillmode": "overlay",
              "size": 10,
              "solidity": 0.2
             }
            },
            "type": "barpolar"
           }
          ],
          "carpet": [
           {
            "aaxis": {
             "endlinecolor": "#2a3f5f",
             "gridcolor": "white",
             "linecolor": "white",
             "minorgridcolor": "white",
             "startlinecolor": "#2a3f5f"
            },
            "baxis": {
             "endlinecolor": "#2a3f5f",
             "gridcolor": "white",
             "linecolor": "white",
             "minorgridcolor": "white",
             "startlinecolor": "#2a3f5f"
            },
            "type": "carpet"
           }
          ],
          "choropleth": [
           {
            "colorbar": {
             "outlinewidth": 0,
             "ticks": ""
            },
            "type": "choropleth"
           }
          ],
          "contour": [
           {
            "colorbar": {
             "outlinewidth": 0,
             "ticks": ""
            },
            "colorscale": [
             [
              0,
              "#0d0887"
             ],
             [
              0.1111111111111111,
              "#46039f"
             ],
             [
              0.2222222222222222,
              "#7201a8"
             ],
             [
              0.3333333333333333,
              "#9c179e"
             ],
             [
              0.4444444444444444,
              "#bd3786"
             ],
             [
              0.5555555555555556,
              "#d8576b"
             ],
             [
              0.6666666666666666,
              "#ed7953"
             ],
             [
              0.7777777777777778,
              "#fb9f3a"
             ],
             [
              0.8888888888888888,
              "#fdca26"
             ],
             [
              1,
              "#f0f921"
             ]
            ],
            "type": "contour"
           }
          ],
          "contourcarpet": [
           {
            "colorbar": {
             "outlinewidth": 0,
             "ticks": ""
            },
            "type": "contourcarpet"
           }
          ],
          "heatmap": [
           {
            "colorbar": {
             "outlinewidth": 0,
             "ticks": ""
            },
            "colorscale": [
             [
              0,
              "#0d0887"
             ],
             [
              0.1111111111111111,
              "#46039f"
             ],
             [
              0.2222222222222222,
              "#7201a8"
             ],
             [
              0.3333333333333333,
              "#9c179e"
             ],
             [
              0.4444444444444444,
              "#bd3786"
             ],
             [
              0.5555555555555556,
              "#d8576b"
             ],
             [
              0.6666666666666666,
              "#ed7953"
             ],
             [
              0.7777777777777778,
              "#fb9f3a"
             ],
             [
              0.8888888888888888,
              "#fdca26"
             ],
             [
              1,
              "#f0f921"
             ]
            ],
            "type": "heatmap"
           }
          ],
          "heatmapgl": [
           {
            "colorbar": {
             "outlinewidth": 0,
             "ticks": ""
            },
            "colorscale": [
             [
              0,
              "#0d0887"
             ],
             [
              0.1111111111111111,
              "#46039f"
             ],
             [
              0.2222222222222222,
              "#7201a8"
             ],
             [
              0.3333333333333333,
              "#9c179e"
             ],
             [
              0.4444444444444444,
              "#bd3786"
             ],
             [
              0.5555555555555556,
              "#d8576b"
             ],
             [
              0.6666666666666666,
              "#ed7953"
             ],
             [
              0.7777777777777778,
              "#fb9f3a"
             ],
             [
              0.8888888888888888,
              "#fdca26"
             ],
             [
              1,
              "#f0f921"
             ]
            ],
            "type": "heatmapgl"
           }
          ],
          "histogram": [
           {
            "marker": {
             "pattern": {
              "fillmode": "overlay",
              "size": 10,
              "solidity": 0.2
             }
            },
            "type": "histogram"
           }
          ],
          "histogram2d": [
           {
            "colorbar": {
             "outlinewidth": 0,
             "ticks": ""
            },
            "colorscale": [
             [
              0,
              "#0d0887"
             ],
             [
              0.1111111111111111,
              "#46039f"
             ],
             [
              0.2222222222222222,
              "#7201a8"
             ],
             [
              0.3333333333333333,
              "#9c179e"
             ],
             [
              0.4444444444444444,
              "#bd3786"
             ],
             [
              0.5555555555555556,
              "#d8576b"
             ],
             [
              0.6666666666666666,
              "#ed7953"
             ],
             [
              0.7777777777777778,
              "#fb9f3a"
             ],
             [
              0.8888888888888888,
              "#fdca26"
             ],
             [
              1,
              "#f0f921"
             ]
            ],
            "type": "histogram2d"
           }
          ],
          "histogram2dcontour": [
           {
            "colorbar": {
             "outlinewidth": 0,
             "ticks": ""
            },
            "colorscale": [
             [
              0,
              "#0d0887"
             ],
             [
              0.1111111111111111,
              "#46039f"
             ],
             [
              0.2222222222222222,
              "#7201a8"
             ],
             [
              0.3333333333333333,
              "#9c179e"
             ],
             [
              0.4444444444444444,
              "#bd3786"
             ],
             [
              0.5555555555555556,
              "#d8576b"
             ],
             [
              0.6666666666666666,
              "#ed7953"
             ],
             [
              0.7777777777777778,
              "#fb9f3a"
             ],
             [
              0.8888888888888888,
              "#fdca26"
             ],
             [
              1,
              "#f0f921"
             ]
            ],
            "type": "histogram2dcontour"
           }
          ],
          "mesh3d": [
           {
            "colorbar": {
             "outlinewidth": 0,
             "ticks": ""
            },
            "type": "mesh3d"
           }
          ],
          "parcoords": [
           {
            "line": {
             "colorbar": {
              "outlinewidth": 0,
              "ticks": ""
             }
            },
            "type": "parcoords"
           }
          ],
          "pie": [
           {
            "automargin": true,
            "type": "pie"
           }
          ],
          "scatter": [
           {
            "fillpattern": {
             "fillmode": "overlay",
             "size": 10,
             "solidity": 0.2
            },
            "type": "scatter"
           }
          ],
          "scatter3d": [
           {
            "line": {
             "colorbar": {
              "outlinewidth": 0,
              "ticks": ""
             }
            },
            "marker": {
             "colorbar": {
              "outlinewidth": 0,
              "ticks": ""
             }
            },
            "type": "scatter3d"
           }
          ],
          "scattercarpet": [
           {
            "marker": {
             "colorbar": {
              "outlinewidth": 0,
              "ticks": ""
             }
            },
            "type": "scattercarpet"
           }
          ],
          "scattergeo": [
           {
            "marker": {
             "colorbar": {
              "outlinewidth": 0,
              "ticks": ""
             }
            },
            "type": "scattergeo"
           }
          ],
          "scattergl": [
           {
            "marker": {
             "colorbar": {
              "outlinewidth": 0,
              "ticks": ""
             }
            },
            "type": "scattergl"
           }
          ],
          "scattermapbox": [
           {
            "marker": {
             "colorbar": {
              "outlinewidth": 0,
              "ticks": ""
             }
            },
            "type": "scattermapbox"
           }
          ],
          "scatterpolar": [
           {
            "marker": {
             "colorbar": {
              "outlinewidth": 0,
              "ticks": ""
             }
            },
            "type": "scatterpolar"
           }
          ],
          "scatterpolargl": [
           {
            "marker": {
             "colorbar": {
              "outlinewidth": 0,
              "ticks": ""
             }
            },
            "type": "scatterpolargl"
           }
          ],
          "scatterternary": [
           {
            "marker": {
             "colorbar": {
              "outlinewidth": 0,
              "ticks": ""
             }
            },
            "type": "scatterternary"
           }
          ],
          "surface": [
           {
            "colorbar": {
             "outlinewidth": 0,
             "ticks": ""
            },
            "colorscale": [
             [
              0,
              "#0d0887"
             ],
             [
              0.1111111111111111,
              "#46039f"
             ],
             [
              0.2222222222222222,
              "#7201a8"
             ],
             [
              0.3333333333333333,
              "#9c179e"
             ],
             [
              0.4444444444444444,
              "#bd3786"
             ],
             [
              0.5555555555555556,
              "#d8576b"
             ],
             [
              0.6666666666666666,
              "#ed7953"
             ],
             [
              0.7777777777777778,
              "#fb9f3a"
             ],
             [
              0.8888888888888888,
              "#fdca26"
             ],
             [
              1,
              "#f0f921"
             ]
            ],
            "type": "surface"
           }
          ],
          "table": [
           {
            "cells": {
             "fill": {
              "color": "#EBF0F8"
             },
             "line": {
              "color": "white"
             }
            },
            "header": {
             "fill": {
              "color": "#C8D4E3"
             },
             "line": {
              "color": "white"
             }
            },
            "type": "table"
           }
          ]
         },
         "layout": {
          "annotationdefaults": {
           "arrowcolor": "#2a3f5f",
           "arrowhead": 0,
           "arrowwidth": 1
          },
          "autotypenumbers": "strict",
          "coloraxis": {
           "colorbar": {
            "outlinewidth": 0,
            "ticks": ""
           }
          },
          "colorscale": {
           "diverging": [
            [
             0,
             "#8e0152"
            ],
            [
             0.1,
             "#c51b7d"
            ],
            [
             0.2,
             "#de77ae"
            ],
            [
             0.3,
             "#f1b6da"
            ],
            [
             0.4,
             "#fde0ef"
            ],
            [
             0.5,
             "#f7f7f7"
            ],
            [
             0.6,
             "#e6f5d0"
            ],
            [
             0.7,
             "#b8e186"
            ],
            [
             0.8,
             "#7fbc41"
            ],
            [
             0.9,
             "#4d9221"
            ],
            [
             1,
             "#276419"
            ]
           ],
           "sequential": [
            [
             0,
             "#0d0887"
            ],
            [
             0.1111111111111111,
             "#46039f"
            ],
            [
             0.2222222222222222,
             "#7201a8"
            ],
            [
             0.3333333333333333,
             "#9c179e"
            ],
            [
             0.4444444444444444,
             "#bd3786"
            ],
            [
             0.5555555555555556,
             "#d8576b"
            ],
            [
             0.6666666666666666,
             "#ed7953"
            ],
            [
             0.7777777777777778,
             "#fb9f3a"
            ],
            [
             0.8888888888888888,
             "#fdca26"
            ],
            [
             1,
             "#f0f921"
            ]
           ],
           "sequentialminus": [
            [
             0,
             "#0d0887"
            ],
            [
             0.1111111111111111,
             "#46039f"
            ],
            [
             0.2222222222222222,
             "#7201a8"
            ],
            [
             0.3333333333333333,
             "#9c179e"
            ],
            [
             0.4444444444444444,
             "#bd3786"
            ],
            [
             0.5555555555555556,
             "#d8576b"
            ],
            [
             0.6666666666666666,
             "#ed7953"
            ],
            [
             0.7777777777777778,
             "#fb9f3a"
            ],
            [
             0.8888888888888888,
             "#fdca26"
            ],
            [
             1,
             "#f0f921"
            ]
           ]
          },
          "colorway": [
           "#636efa",
           "#EF553B",
           "#00cc96",
           "#ab63fa",
           "#FFA15A",
           "#19d3f3",
           "#FF6692",
           "#B6E880",
           "#FF97FF",
           "#FECB52"
          ],
          "font": {
           "color": "#2a3f5f"
          },
          "geo": {
           "bgcolor": "white",
           "lakecolor": "white",
           "landcolor": "#E5ECF6",
           "showlakes": true,
           "showland": true,
           "subunitcolor": "white"
          },
          "hoverlabel": {
           "align": "left"
          },
          "hovermode": "closest",
          "mapbox": {
           "style": "light"
          },
          "paper_bgcolor": "white",
          "plot_bgcolor": "#E5ECF6",
          "polar": {
           "angularaxis": {
            "gridcolor": "white",
            "linecolor": "white",
            "ticks": ""
           },
           "bgcolor": "#E5ECF6",
           "radialaxis": {
            "gridcolor": "white",
            "linecolor": "white",
            "ticks": ""
           }
          },
          "scene": {
           "xaxis": {
            "backgroundcolor": "#E5ECF6",
            "gridcolor": "white",
            "gridwidth": 2,
            "linecolor": "white",
            "showbackground": true,
            "ticks": "",
            "zerolinecolor": "white"
           },
           "yaxis": {
            "backgroundcolor": "#E5ECF6",
            "gridcolor": "white",
            "gridwidth": 2,
            "linecolor": "white",
            "showbackground": true,
            "ticks": "",
            "zerolinecolor": "white"
           },
           "zaxis": {
            "backgroundcolor": "#E5ECF6",
            "gridcolor": "white",
            "gridwidth": 2,
            "linecolor": "white",
            "showbackground": true,
            "ticks": "",
            "zerolinecolor": "white"
           }
          },
          "shapedefaults": {
           "line": {
            "color": "#2a3f5f"
           }
          },
          "ternary": {
           "aaxis": {
            "gridcolor": "white",
            "linecolor": "white",
            "ticks": ""
           },
           "baxis": {
            "gridcolor": "white",
            "linecolor": "white",
            "ticks": ""
           },
           "bgcolor": "#E5ECF6",
           "caxis": {
            "gridcolor": "white",
            "linecolor": "white",
            "ticks": ""
           }
          },
          "title": {
           "x": 0.05
          },
          "xaxis": {
           "automargin": true,
           "gridcolor": "white",
           "linecolor": "white",
           "ticks": "",
           "title": {
            "standoff": 15
           },
           "zerolinecolor": "white",
           "zerolinewidth": 2
          },
          "yaxis": {
           "automargin": true,
           "gridcolor": "white",
           "linecolor": "white",
           "ticks": "",
           "title": {
            "standoff": 15
           },
           "zerolinecolor": "white",
           "zerolinewidth": 2
          }
         }
        },
        "title": {
         "text": "Interacción Viento Llamados por mes"
        },
        "xaxis": {
         "anchor": "y",
         "domain": [
          0,
          1
         ],
         "title": {
          "text": "momento"
         }
        },
        "yaxis": {
         "anchor": "x",
         "domain": [
          0,
          1
         ],
         "title": {
          "text": "Scaled Value"
         }
        }
       }
      }
     },
     "metadata": {},
     "output_type": "display_data"
    }
   ],
   "source": [
    "from sklearn.preprocessing import MinMaxScaler\n",
    "\n",
    "a = df_llamados[['Periodo', 'Número total de llamadas recibidas por mes (NLLR)']].copy()\n",
    "b = df_viento[['momento', 'ffInst']].copy()\n",
    "    \n",
    "mindate = df_llamados['Periodo'].min()\n",
    "maxdate = df_llamados['Periodo'].max()\n",
    "\n",
    "b = b[b['momento'] >= mindate]\n",
    "b = b[b['momento'] <= maxdate]\n",
    "\n",
    "b = b.set_index('momento').resample('M').ffInst.mean().reset_index()\n",
    "b['momento'] = b['momento'].apply(lambda x: x.replace(day=1))\n",
    "\n",
    "a.rename(columns={'Periodo': 'momento'}, inplace=True)\n",
    "a['momento'] = pd.to_datetime(a['momento'])\n",
    "\n",
    "c = pd.merge(a, b, on='momento', how='inner')\n",
    "c = c.set_index(\"momento\")\n",
    "\n",
    "scaler = MinMaxScaler()\n",
    "c[['ffInst', 'Número total de llamadas recibidas por mes (NLLR)']] = scaler.fit_transform(c[['ffInst', 'Número total de llamadas recibidas por mes (NLLR)']])\n",
    "\n",
    "# Plotting using plotly.express\n",
    "fig = px.line(c, x=c.index, y=['ffInst', 'Número total de llamadas recibidas por mes (NLLR)'],\n",
    "              title='Interacción Viento Llamados por mes',\n",
    "              labels={'index': 'Index', 'value': 'Scaled Value'})\n",
    "\n",
    "fig.show()"
   ]
  }
 ],
 "metadata": {
  "kernelspec": {
   "display_name": "test-env",
   "language": "python",
   "name": "python3"
  },
  "language_info": {
   "codemirror_mode": {
    "name": "ipython",
    "version": 3
   },
   "file_extension": ".py",
   "mimetype": "text/x-python",
   "name": "python",
   "nbconvert_exporter": "python",
   "pygments_lexer": "ipython3",
   "version": "3.11.4"
  },
  "orig_nbformat": 4
 },
 "nbformat": 4,
 "nbformat_minor": 2
}
